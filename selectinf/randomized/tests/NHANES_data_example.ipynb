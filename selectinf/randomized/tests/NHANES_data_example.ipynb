{
 "cells": [
  {
   "cell_type": "code",
   "execution_count": 1,
   "metadata": {
    "collapsed": true
   },
   "outputs": [],
   "source": [
    "import numpy as np\n",
    "import pandas as pd\n",
    "import nose.tools as nt\n",
    "import seaborn as sns\n",
    "import matplotlib.pyplot as plt\n",
    "\n",
    "from selectinf.base import (full_targets,\n",
    "                     selected_targets,\n",
    "                     debiased_targets)\n",
    "\n",
    "from selectinf.randomized.group_lasso_query import (group_lasso,\n",
    "                                                    split_group_lasso)"
   ]
  },
  {
   "cell_type": "markdown",
   "source": [
    "# Data Cleaning"
   ],
   "metadata": {
    "collapsed": false
   }
  },
  {
   "cell_type": "code",
   "execution_count": 2,
   "outputs": [],
   "source": [
    "data_raw = pd.read_csv(\"data_groups_dummy_encoded.csv\")"
   ],
   "metadata": {
    "collapsed": false
   }
  },
  {
   "cell_type": "code",
   "execution_count": 3,
   "outputs": [
    {
     "data": {
      "text/plain": "        SEQN  depressed  RIDAGEYR  INDFMPIR  BMXBMI  DBD895  DBD905  DBD910  \\\n0     109273          1        36      0.83    21.9       2       0       7   \n1     109274          0        68      1.20    30.2       0       0       0   \n2     109282          0        76      3.61    26.6       1       1       8   \n3     109292          0        58      1.60    30.5       2      10       3   \n4     109293          0        44      0.02    30.1       3       7       0   \n...      ...        ...       ...       ...     ...     ...     ...     ...   \n5980  124814          0        64      2.00    37.5       3       1       2   \n5981  124815          0        52      5.00    29.5       1       0       0   \n5982  124817          0        67      2.19    37.9       4       0       0   \n5983  124818          0        40      3.82    38.2       4       5       0   \n5984  124821          0        63      3.71    25.5       0       0       0   \n\n      RIDRETH1_Mexican_American  RIDRETH1_Other_Hispanic  ...  RIAGENDR_man  \\\n0                             0                        0  ...             1   \n1                             0                        0  ...             1   \n2                             0                        0  ...             1   \n3                             0                        1  ...             1   \n4                             0                        0  ...             1   \n...                         ...                      ...  ...           ...   \n5980                          0                        0  ...             1   \n5981                          0                        0  ...             1   \n5982                          1                        0  ...             0   \n5983                          0                        0  ...             1   \n5984                          0                        0  ...             1   \n\n      DMDBORN4_US  ALQ111_dummy  ALQ151_dummy  BPQ020_hypertension  \\\n0               1             1             0                    0   \n1               1             1             0                    1   \n2               1             1             0                    1   \n3               1             1             0                    1   \n4               1             1             1                    0   \n...           ...           ...           ...                  ...   \n5980            1             1             0                    0   \n5981            1             1             0                    0   \n5982            0             1             0                    0   \n5983            1             1             0                    0   \n5984            1             1             0                    1   \n\n      BPQ080_high_cholesterol  SMQ020_smoke  MCQ010_asthma  MCQ053_anemia  \\\n0                           0             1              0              0   \n1                           1             0              0              0   \n2                           1             1              0              1   \n3                           1             0              1              0   \n4                           0             0              0              0   \n...                       ...           ...            ...            ...   \n5980                        0             1              0              0   \n5981                        0             1              0              0   \n5982                        1             0              0              0   \n5983                        0             0              0              0   \n5984                        1             0              1              0   \n\n      MCQ092_blood_transfusion  \n0                            0  \n1                            0  \n2                            0  \n3                            0  \n4                            0  \n...                        ...  \n5980                         0  \n5981                         0  \n5982                         0  \n5983                         0  \n5984                         0  \n\n[5985 rows x 50 columns]",
      "text/html": "<div>\n<style scoped>\n    .dataframe tbody tr th:only-of-type {\n        vertical-align: middle;\n    }\n\n    .dataframe tbody tr th {\n        vertical-align: top;\n    }\n\n    .dataframe thead th {\n        text-align: right;\n    }\n</style>\n<table border=\"1\" class=\"dataframe\">\n  <thead>\n    <tr style=\"text-align: right;\">\n      <th></th>\n      <th>SEQN</th>\n      <th>depressed</th>\n      <th>RIDAGEYR</th>\n      <th>INDFMPIR</th>\n      <th>BMXBMI</th>\n      <th>DBD895</th>\n      <th>DBD905</th>\n      <th>DBD910</th>\n      <th>RIDRETH1_Mexican_American</th>\n      <th>RIDRETH1_Other_Hispanic</th>\n      <th>...</th>\n      <th>RIAGENDR_man</th>\n      <th>DMDBORN4_US</th>\n      <th>ALQ111_dummy</th>\n      <th>ALQ151_dummy</th>\n      <th>BPQ020_hypertension</th>\n      <th>BPQ080_high_cholesterol</th>\n      <th>SMQ020_smoke</th>\n      <th>MCQ010_asthma</th>\n      <th>MCQ053_anemia</th>\n      <th>MCQ092_blood_transfusion</th>\n    </tr>\n  </thead>\n  <tbody>\n    <tr>\n      <th>0</th>\n      <td>109273</td>\n      <td>1</td>\n      <td>36</td>\n      <td>0.83</td>\n      <td>21.9</td>\n      <td>2</td>\n      <td>0</td>\n      <td>7</td>\n      <td>0</td>\n      <td>0</td>\n      <td>...</td>\n      <td>1</td>\n      <td>1</td>\n      <td>1</td>\n      <td>0</td>\n      <td>0</td>\n      <td>0</td>\n      <td>1</td>\n      <td>0</td>\n      <td>0</td>\n      <td>0</td>\n    </tr>\n    <tr>\n      <th>1</th>\n      <td>109274</td>\n      <td>0</td>\n      <td>68</td>\n      <td>1.20</td>\n      <td>30.2</td>\n      <td>0</td>\n      <td>0</td>\n      <td>0</td>\n      <td>0</td>\n      <td>0</td>\n      <td>...</td>\n      <td>1</td>\n      <td>1</td>\n      <td>1</td>\n      <td>0</td>\n      <td>1</td>\n      <td>1</td>\n      <td>0</td>\n      <td>0</td>\n      <td>0</td>\n      <td>0</td>\n    </tr>\n    <tr>\n      <th>2</th>\n      <td>109282</td>\n      <td>0</td>\n      <td>76</td>\n      <td>3.61</td>\n      <td>26.6</td>\n      <td>1</td>\n      <td>1</td>\n      <td>8</td>\n      <td>0</td>\n      <td>0</td>\n      <td>...</td>\n      <td>1</td>\n      <td>1</td>\n      <td>1</td>\n      <td>0</td>\n      <td>1</td>\n      <td>1</td>\n      <td>1</td>\n      <td>0</td>\n      <td>1</td>\n      <td>0</td>\n    </tr>\n    <tr>\n      <th>3</th>\n      <td>109292</td>\n      <td>0</td>\n      <td>58</td>\n      <td>1.60</td>\n      <td>30.5</td>\n      <td>2</td>\n      <td>10</td>\n      <td>3</td>\n      <td>0</td>\n      <td>1</td>\n      <td>...</td>\n      <td>1</td>\n      <td>1</td>\n      <td>1</td>\n      <td>0</td>\n      <td>1</td>\n      <td>1</td>\n      <td>0</td>\n      <td>1</td>\n      <td>0</td>\n      <td>0</td>\n    </tr>\n    <tr>\n      <th>4</th>\n      <td>109293</td>\n      <td>0</td>\n      <td>44</td>\n      <td>0.02</td>\n      <td>30.1</td>\n      <td>3</td>\n      <td>7</td>\n      <td>0</td>\n      <td>0</td>\n      <td>0</td>\n      <td>...</td>\n      <td>1</td>\n      <td>1</td>\n      <td>1</td>\n      <td>1</td>\n      <td>0</td>\n      <td>0</td>\n      <td>0</td>\n      <td>0</td>\n      <td>0</td>\n      <td>0</td>\n    </tr>\n    <tr>\n      <th>...</th>\n      <td>...</td>\n      <td>...</td>\n      <td>...</td>\n      <td>...</td>\n      <td>...</td>\n      <td>...</td>\n      <td>...</td>\n      <td>...</td>\n      <td>...</td>\n      <td>...</td>\n      <td>...</td>\n      <td>...</td>\n      <td>...</td>\n      <td>...</td>\n      <td>...</td>\n      <td>...</td>\n      <td>...</td>\n      <td>...</td>\n      <td>...</td>\n      <td>...</td>\n      <td>...</td>\n    </tr>\n    <tr>\n      <th>5980</th>\n      <td>124814</td>\n      <td>0</td>\n      <td>64</td>\n      <td>2.00</td>\n      <td>37.5</td>\n      <td>3</td>\n      <td>1</td>\n      <td>2</td>\n      <td>0</td>\n      <td>0</td>\n      <td>...</td>\n      <td>1</td>\n      <td>1</td>\n      <td>1</td>\n      <td>0</td>\n      <td>0</td>\n      <td>0</td>\n      <td>1</td>\n      <td>0</td>\n      <td>0</td>\n      <td>0</td>\n    </tr>\n    <tr>\n      <th>5981</th>\n      <td>124815</td>\n      <td>0</td>\n      <td>52</td>\n      <td>5.00</td>\n      <td>29.5</td>\n      <td>1</td>\n      <td>0</td>\n      <td>0</td>\n      <td>0</td>\n      <td>0</td>\n      <td>...</td>\n      <td>1</td>\n      <td>1</td>\n      <td>1</td>\n      <td>0</td>\n      <td>0</td>\n      <td>0</td>\n      <td>1</td>\n      <td>0</td>\n      <td>0</td>\n      <td>0</td>\n    </tr>\n    <tr>\n      <th>5982</th>\n      <td>124817</td>\n      <td>0</td>\n      <td>67</td>\n      <td>2.19</td>\n      <td>37.9</td>\n      <td>4</td>\n      <td>0</td>\n      <td>0</td>\n      <td>1</td>\n      <td>0</td>\n      <td>...</td>\n      <td>0</td>\n      <td>0</td>\n      <td>1</td>\n      <td>0</td>\n      <td>0</td>\n      <td>1</td>\n      <td>0</td>\n      <td>0</td>\n      <td>0</td>\n      <td>0</td>\n    </tr>\n    <tr>\n      <th>5983</th>\n      <td>124818</td>\n      <td>0</td>\n      <td>40</td>\n      <td>3.82</td>\n      <td>38.2</td>\n      <td>4</td>\n      <td>5</td>\n      <td>0</td>\n      <td>0</td>\n      <td>0</td>\n      <td>...</td>\n      <td>1</td>\n      <td>1</td>\n      <td>1</td>\n      <td>0</td>\n      <td>0</td>\n      <td>0</td>\n      <td>0</td>\n      <td>0</td>\n      <td>0</td>\n      <td>0</td>\n    </tr>\n    <tr>\n      <th>5984</th>\n      <td>124821</td>\n      <td>0</td>\n      <td>63</td>\n      <td>3.71</td>\n      <td>25.5</td>\n      <td>0</td>\n      <td>0</td>\n      <td>0</td>\n      <td>0</td>\n      <td>0</td>\n      <td>...</td>\n      <td>1</td>\n      <td>1</td>\n      <td>1</td>\n      <td>0</td>\n      <td>1</td>\n      <td>1</td>\n      <td>0</td>\n      <td>1</td>\n      <td>0</td>\n      <td>0</td>\n    </tr>\n  </tbody>\n</table>\n<p>5985 rows × 50 columns</p>\n</div>"
     },
     "execution_count": 3,
     "metadata": {},
     "output_type": "execute_result"
    }
   ],
   "source": [
    "data_raw"
   ],
   "metadata": {
    "collapsed": false
   }
  },
  {
   "cell_type": "code",
   "execution_count": 4,
   "outputs": [],
   "source": [
    "DBQ197 = data_raw[[\"DBQ197_never\",\"DBQ197_often\",\n",
    "        \"DBQ197_rarely\", \"DBQ197_sometimes\"]].to_numpy()"
   ],
   "metadata": {
    "collapsed": false
   }
  },
  {
   "cell_type": "code",
   "execution_count": 5,
   "outputs": [
    {
     "data": {
      "text/plain": "0"
     },
     "execution_count": 5,
     "metadata": {},
     "output_type": "execute_result"
    }
   ],
   "source": [
    "(data_raw[\"ALQ111_dummy\"] != 1).sum()"
   ],
   "metadata": {
    "collapsed": false
   }
  },
  {
   "cell_type": "code",
   "execution_count": 135,
   "outputs": [],
   "source": [
    "data_X = data_raw[data_raw.columns[2:50]].drop(columns=\"ALQ111_dummy\")"
   ],
   "metadata": {
    "collapsed": false
   }
  },
  {
   "cell_type": "code",
   "execution_count": 7,
   "outputs": [
    {
     "data": {
      "text/plain": "Index(['RIDAGEYR', 'INDFMPIR', 'BMXBMI', 'DBD895', 'DBD905', 'DBD910',\n       'RIDRETH1_Mexican_American', 'RIDRETH1_Other_Hispanic',\n       'RIDRETH1_Non_Hispanic_White', 'RIDRETH1_Non_Hispanic_Black',\n       'DMDEDUC2_1', 'DMDEDUC2_2', 'DMDEDUC2_3', 'DMDEDUC2_4',\n       'DMDMARTZ_married_living_with', 'DMDMARTZ_sep', 'INDFMMPC_1',\n       'INDFMMPC_2', 'ALQ121_0', 'ALQ121_1', 'ALQ121_2', 'ALQ121_3',\n       'ALQ121_4', 'ALQ121_5', 'ALQ121_6', 'ALQ121_7', 'ALQ121_8', 'ALQ121_9',\n       'DBQ700_1', 'DBQ700_2', 'DBQ700_3', 'DBQ700_4', 'DBQ197_never',\n       'DBQ197_rarely', 'DBQ197_sometimes', 'DBQ197_often', 'DIQ010_diabetes',\n       'DIQ010_diabetes_borderline', 'RIAGENDR_man', 'DMDBORN4_US',\n       'ALQ151_dummy', 'BPQ020_hypertension', 'BPQ080_high_cholesterol',\n       'SMQ020_smoke', 'MCQ010_asthma', 'MCQ053_anemia',\n       'MCQ092_blood_transfusion'],\n      dtype='object')"
     },
     "execution_count": 7,
     "metadata": {},
     "output_type": "execute_result"
    }
   ],
   "source": [
    "data_X.columns"
   ],
   "metadata": {
    "collapsed": false
   }
  },
  {
   "cell_type": "code",
   "execution_count": 8,
   "outputs": [],
   "source": [
    "data_X = data_X.to_numpy()"
   ],
   "metadata": {
    "collapsed": false
   }
  },
  {
   "cell_type": "code",
   "execution_count": 9,
   "outputs": [
    {
     "data": {
      "text/plain": "47"
     },
     "execution_count": 9,
     "metadata": {},
     "output_type": "execute_result"
    }
   ],
   "source": [
    "np.linalg.matrix_rank(data_X)"
   ],
   "metadata": {
    "collapsed": false
   }
  },
  {
   "cell_type": "code",
   "execution_count": 10,
   "outputs": [
    {
     "data": {
      "text/plain": "(5985, 47)"
     },
     "execution_count": 10,
     "metadata": {},
     "output_type": "execute_result"
    }
   ],
   "source": [
    "data_X.shape"
   ],
   "metadata": {
    "collapsed": false
   }
  },
  {
   "cell_type": "code",
   "execution_count": 11,
   "outputs": [],
   "source": [
    "design_X = np.zeros((5985,48))\n",
    "design_X[:,0] = np.ones((5985,))\n",
    "design_X[:,1:48] = data_X"
   ],
   "metadata": {
    "collapsed": false
   }
  },
  {
   "cell_type": "code",
   "execution_count": 12,
   "outputs": [
    {
     "data": {
      "text/plain": "48"
     },
     "execution_count": 12,
     "metadata": {},
     "output_type": "execute_result"
    }
   ],
   "source": [
    "np.linalg.matrix_rank(design_X)"
   ],
   "metadata": {
    "collapsed": false
   }
  },
  {
   "cell_type": "code",
   "execution_count": 13,
   "outputs": [
    {
     "data": {
      "text/plain": "(5985, 48)"
     },
     "execution_count": 13,
     "metadata": {},
     "output_type": "execute_result"
    }
   ],
   "source": [
    "design_X.shape"
   ],
   "metadata": {
    "collapsed": false
   }
  },
  {
   "cell_type": "code",
   "execution_count": 14,
   "outputs": [
    {
     "data": {
      "text/plain": "array([[ 1.  , 36.  ,  0.83, ...,  0.  ,  0.  ,  0.  ],\n       [ 1.  , 68.  ,  1.2 , ...,  0.  ,  0.  ,  0.  ],\n       [ 1.  , 76.  ,  3.61, ...,  0.  ,  1.  ,  0.  ],\n       ...,\n       [ 1.  , 67.  ,  2.19, ...,  0.  ,  0.  ,  0.  ],\n       [ 1.  , 40.  ,  3.82, ...,  0.  ,  0.  ,  0.  ],\n       [ 1.  , 63.  ,  3.71, ...,  1.  ,  0.  ,  0.  ]])"
     },
     "execution_count": 14,
     "metadata": {},
     "output_type": "execute_result"
    }
   ],
   "source": [
    "design_X"
   ],
   "metadata": {
    "collapsed": false
   }
  },
  {
   "cell_type": "markdown",
   "source": [
    "# Construct Groups"
   ],
   "metadata": {
    "collapsed": false
   }
  },
  {
   "cell_type": "code",
   "execution_count": 15,
   "outputs": [
    {
     "data": {
      "text/plain": "Index(['RIDAGEYR', 'INDFMPIR', 'BMXBMI', 'DBD895', 'DBD905', 'DBD910',\n       'RIDRETH1_Mexican_American', 'RIDRETH1_Other_Hispanic',\n       'RIDRETH1_Non_Hispanic_White', 'RIDRETH1_Non_Hispanic_Black',\n       'DMDEDUC2_1', 'DMDEDUC2_2', 'DMDEDUC2_3', 'DMDEDUC2_4',\n       'DMDMARTZ_married_living_with', 'DMDMARTZ_sep', 'INDFMMPC_1',\n       'INDFMMPC_2', 'ALQ121_0', 'ALQ121_1', 'ALQ121_2', 'ALQ121_3',\n       'ALQ121_4', 'ALQ121_5', 'ALQ121_6', 'ALQ121_7', 'ALQ121_8', 'ALQ121_9',\n       'DBQ700_1', 'DBQ700_2', 'DBQ700_3', 'DBQ700_4', 'DBQ197_never',\n       'DBQ197_rarely', 'DBQ197_sometimes', 'DBQ197_often', 'DIQ010_diabetes',\n       'DIQ010_diabetes_borderline', 'RIAGENDR_man', 'DMDBORN4_US',\n       'ALQ151_dummy', 'BPQ020_hypertension', 'BPQ080_high_cholesterol',\n       'SMQ020_smoke', 'MCQ010_asthma', 'MCQ053_anemia',\n       'MCQ092_blood_transfusion'],\n      dtype='object')"
     },
     "execution_count": 15,
     "metadata": {},
     "output_type": "execute_result"
    }
   ],
   "source": [
    "data_raw[data_raw.columns[2:50]].drop(columns=\"ALQ111_dummy\").columns"
   ],
   "metadata": {
    "collapsed": false
   }
  },
  {
   "cell_type": "code",
   "execution_count": 16,
   "outputs": [],
   "source": [
    "groups = np.zeros((48,))\n",
    "groups[0] = int(0) # Intercept\n",
    "# Singletons\n",
    "for i in range(1,7):\n",
    "    groups[i] = int(i)\n",
    "# RIDRETH1\n",
    "groups[7:11] = int(7)\n",
    "# DMDEDUC2\n",
    "groups[11:15] = int(8)\n",
    "# DMDMARTZ\n",
    "groups[15:17] = int(9)\n",
    "# INDFMMPC\n",
    "groups[17:19] = int(10)\n",
    "# ALQ121\n",
    "groups[19:29] = int(11)\n",
    "# DBQ700\n",
    "groups[29:33] = int(12)\n",
    "# DBQ197\n",
    "groups[33:37] = int(13)\n",
    "# DIQ010\n",
    "groups[37:39] = int(14)\n",
    "# Singletons\n",
    "for i in range(39,48):\n",
    "    groups[i] = int(i-24)\n",
    "\n",
    "groups = groups.astype(int)"
   ],
   "metadata": {
    "collapsed": false
   }
  },
  {
   "cell_type": "code",
   "execution_count": 17,
   "outputs": [],
   "source": [
    "col_names = data_raw[data_raw.columns[2:50]].drop(columns=\"ALQ111_dummy\").columns.values.tolist()\n",
    "col_names = ['Intercept'] + col_names"
   ],
   "metadata": {
    "collapsed": false
   }
  },
  {
   "cell_type": "code",
   "execution_count": 18,
   "outputs": [
    {
     "data": {
      "text/plain": "          0         1         2       3       4       5       6   \\\n0          0         1         2       3       4       5       6   \n1  Intercept  RIDAGEYR  INDFMPIR  BMXBMI  DBD895  DBD905  DBD910   \n\n                          7                        8   \\\n0                          7                        7   \n1  RIDRETH1_Mexican_American  RIDRETH1_Other_Hispanic   \n\n                            9   ...                          38            39  \\\n0                            7  ...                          14            15   \n1  RIDRETH1_Non_Hispanic_White  ...  DIQ010_diabetes_borderline  RIAGENDR_man   \n\n            40            41                   42                       43  \\\n0           16            17                   18                       19   \n1  DMDBORN4_US  ALQ151_dummy  BPQ020_hypertension  BPQ080_high_cholesterol   \n\n             44             45             46                        47  \n0            20             21             22                        23  \n1  SMQ020_smoke  MCQ010_asthma  MCQ053_anemia  MCQ092_blood_transfusion  \n\n[2 rows x 48 columns]",
      "text/html": "<div>\n<style scoped>\n    .dataframe tbody tr th:only-of-type {\n        vertical-align: middle;\n    }\n\n    .dataframe tbody tr th {\n        vertical-align: top;\n    }\n\n    .dataframe thead th {\n        text-align: right;\n    }\n</style>\n<table border=\"1\" class=\"dataframe\">\n  <thead>\n    <tr style=\"text-align: right;\">\n      <th></th>\n      <th>0</th>\n      <th>1</th>\n      <th>2</th>\n      <th>3</th>\n      <th>4</th>\n      <th>5</th>\n      <th>6</th>\n      <th>7</th>\n      <th>8</th>\n      <th>9</th>\n      <th>...</th>\n      <th>38</th>\n      <th>39</th>\n      <th>40</th>\n      <th>41</th>\n      <th>42</th>\n      <th>43</th>\n      <th>44</th>\n      <th>45</th>\n      <th>46</th>\n      <th>47</th>\n    </tr>\n  </thead>\n  <tbody>\n    <tr>\n      <th>0</th>\n      <td>0</td>\n      <td>1</td>\n      <td>2</td>\n      <td>3</td>\n      <td>4</td>\n      <td>5</td>\n      <td>6</td>\n      <td>7</td>\n      <td>7</td>\n      <td>7</td>\n      <td>...</td>\n      <td>14</td>\n      <td>15</td>\n      <td>16</td>\n      <td>17</td>\n      <td>18</td>\n      <td>19</td>\n      <td>20</td>\n      <td>21</td>\n      <td>22</td>\n      <td>23</td>\n    </tr>\n    <tr>\n      <th>1</th>\n      <td>Intercept</td>\n      <td>RIDAGEYR</td>\n      <td>INDFMPIR</td>\n      <td>BMXBMI</td>\n      <td>DBD895</td>\n      <td>DBD905</td>\n      <td>DBD910</td>\n      <td>RIDRETH1_Mexican_American</td>\n      <td>RIDRETH1_Other_Hispanic</td>\n      <td>RIDRETH1_Non_Hispanic_White</td>\n      <td>...</td>\n      <td>DIQ010_diabetes_borderline</td>\n      <td>RIAGENDR_man</td>\n      <td>DMDBORN4_US</td>\n      <td>ALQ151_dummy</td>\n      <td>BPQ020_hypertension</td>\n      <td>BPQ080_high_cholesterol</td>\n      <td>SMQ020_smoke</td>\n      <td>MCQ010_asthma</td>\n      <td>MCQ053_anemia</td>\n      <td>MCQ092_blood_transfusion</td>\n    </tr>\n  </tbody>\n</table>\n<p>2 rows × 48 columns</p>\n</div>"
     },
     "execution_count": 18,
     "metadata": {},
     "output_type": "execute_result"
    }
   ],
   "source": [
    "# Sanity check for groupings\n",
    "pd.DataFrame([groups,col_names])"
   ],
   "metadata": {
    "collapsed": false
   }
  },
  {
   "cell_type": "code",
   "execution_count": 19,
   "outputs": [],
   "source": [
    "n,p = design_X.shape\n",
    "scaling_cts = np.ones((p,))\n",
    "scaling_cts[1:7] = design_X.std(0)[1:7]\n",
    "cts_logical = np.zeros((p,))\n",
    "cts_logical[1:7] = 1."
   ],
   "metadata": {
    "collapsed": false
   }
  },
  {
   "cell_type": "code",
   "execution_count": 20,
   "outputs": [
    {
     "name": "stdout",
     "output_type": "stream",
     "text": [
      "48\n",
      "48\n",
      "48\n"
     ]
    }
   ],
   "source": [
    "print(np.linalg.matrix_rank(design_X))\n",
    "scaling = design_X.std(0) * np.sqrt(n)\n",
    "scaling[0] = np.sqrt(n)\n",
    "\n",
    "X_standardized = design_X - (cts_logical * design_X.mean(axis = 0))\n",
    "print(np.linalg.matrix_rank(X_standardized))\n",
    "X_standardized = X_standardized / scaling[None, :]\n",
    "print(np.linalg.matrix_rank(X_standardized))"
   ],
   "metadata": {
    "collapsed": false
   }
  },
  {
   "cell_type": "code",
   "execution_count": 131,
   "outputs": [
    {
     "data": {
      "text/plain": "array([[-0.0054,  0.0103,  0.    ,  0.    ,  0.0266],\n       [-0.0054, -0.0053,  0.    ,  0.    ,  0.    ],\n       [-0.0029,  0.0125,  0.    ,  0.    ,  0.0266],\n       ...,\n       [-0.0054, -0.0053,  0.0411,  0.    ,  0.    ],\n       [ 0.0072, -0.0053,  0.    ,  0.    ,  0.    ],\n       [-0.0054, -0.0053,  0.    ,  0.    ,  0.    ]])"
     },
     "execution_count": 131,
     "metadata": {},
     "output_type": "execute_result"
    }
   ],
   "source": [
    "X_standardized[:,5:10]"
   ],
   "metadata": {
    "collapsed": false
   }
  },
  {
   "cell_type": "code",
   "execution_count": 132,
   "outputs": [
    {
     "data": {
      "text/plain": "array([[0., 7., 0., 0., 1.],\n       [0., 0., 0., 0., 0.],\n       [1., 8., 0., 0., 1.],\n       ...,\n       [0., 0., 1., 0., 0.],\n       [5., 0., 0., 0., 0.],\n       [0., 0., 0., 0., 0.]])"
     },
     "execution_count": 132,
     "metadata": {},
     "output_type": "execute_result"
    }
   ],
   "source": [
    "design_X[:,5:10]"
   ],
   "metadata": {
    "collapsed": false
   }
  },
  {
   "cell_type": "code",
   "execution_count": 133,
   "outputs": [
    {
     "data": {
      "text/plain": "array([[36.  ,  0.83, 21.9 , ...,  0.  ,  0.  ,  0.  ],\n       [68.  ,  1.2 , 30.2 , ...,  0.  ,  0.  ,  0.  ],\n       [76.  ,  3.61, 26.6 , ...,  0.  ,  1.  ,  0.  ],\n       ...,\n       [67.  ,  2.19, 37.9 , ...,  0.  ,  0.  ,  0.  ],\n       [40.  ,  3.82, 38.2 , ...,  0.  ,  0.  ,  0.  ],\n       [63.  ,  3.71, 25.5 , ...,  1.  ,  0.  ,  0.  ]])"
     },
     "execution_count": 133,
     "metadata": {},
     "output_type": "execute_result"
    }
   ],
   "source": [
    "data_X"
   ],
   "metadata": {
    "collapsed": false
   }
  },
  {
   "cell_type": "markdown",
   "source": [
    "# Results"
   ],
   "metadata": {
    "collapsed": false
   }
  },
  {
   "cell_type": "code",
   "execution_count": 107,
   "outputs": [],
   "source": [
    "def plot_single_confidence_interval(x, point_est, interval,\n",
    "                                    color='#2187bb', horizontal_line_width=0.25):\n",
    "\n",
    "    left = x - horizontal_line_width / 2\n",
    "    top = interval[0]\n",
    "    right = x + horizontal_line_width / 2\n",
    "    bottom = interval[1]\n",
    "    plt.plot([x, x], [top, bottom], color=color)\n",
    "    plt.plot([left, right], [top, top], color=color)\n",
    "    plt.plot([left, right], [bottom, bottom], color=color)\n",
    "    plt.plot(x, point_est, 'o', color='#f44336')\n",
    "\n",
    "def plot_full_CIs(point_ests, intervals, col_names, nonzero, title):\n",
    "    col_names = np.array(col_names)\n",
    "    E_card = len(col_names[nonzero])\n",
    "    selected_col_names = col_names[nonzero]\n",
    "    plt.xticks(list(range(1, E_card+1)), selected_col_names)\n",
    "    plt.title(title)\n",
    "    for j in range(E_card):\n",
    "        plot_single_confidence_interval(j+1, point_est=point_ests[j],\n",
    "                                        interval=intervals[j])\n",
    "    plt.show()\n"
   ],
   "metadata": {
    "collapsed": false
   }
  },
  {
   "cell_type": "code",
   "execution_count": 108,
   "outputs": [],
   "source": [
    "Y = data_raw[\"depressed\"]\n",
    "sigma_ = np.std(Y)\n",
    "weight_frac = 0.5\n",
    "sigma_ = 1\n",
    "weights = dict([(i, weight_frac * sigma_ * np.sqrt(2 * np.log(p))) for i in np.unique(groups)])\n",
    "weights[0] = 0"
   ],
   "metadata": {
    "collapsed": false
   }
  },
  {
   "cell_type": "code",
   "execution_count": 109,
   "outputs": [],
   "source": [
    "conv = split_group_lasso.logistic(X=X_standardized,\n",
    "                                      successes=Y,\n",
    "                                      trials=np.ones(n),\n",
    "                                      groups=groups,\n",
    "                                      weights=weights,\n",
    "                                      useJacobian=True,\n",
    "                                      proportion=0.67)\n",
    "signs, soln = conv.fit()\n",
    "nonzero = signs != 0"
   ],
   "metadata": {
    "collapsed": false
   }
  },
  {
   "cell_type": "code",
   "execution_count": 110,
   "outputs": [],
   "source": [
    "conv.setup_inference(dispersion=1)\n",
    "\n",
    "target_spec = selected_targets(conv.loglike,\n",
    "                               conv.observed_soln,\n",
    "                               dispersion=1)\n",
    "\n",
    "result = conv.inference(target_spec,\n",
    "                        method='selective_MLE',\n",
    "                        level=0.9)\n",
    "MLestimates = result['MLE']\n",
    "pval = result['pvalue']\n",
    "intervals = np.asarray(result[['lower_confidence',\n",
    "                               'upper_confidence']])"
   ],
   "metadata": {
    "collapsed": false
   }
  },
  {
   "cell_type": "code",
   "execution_count": 111,
   "outputs": [
    {
     "data": {
      "text/plain": "0    -55.625006\n1    -13.613727\n2      5.688702\n3    -22.563499\n4     -6.479456\n5     10.563761\n6     18.200202\n7     -4.453836\n8    -10.223751\n9    -15.424190\n10    -6.854862\n11    -7.911918\n12     0.855124\n13     2.980522\n14    -7.802193\n15    -5.727150\n16    -5.297450\n17   -28.943553\n18   -46.940831\n19   -46.610632\n20   -32.507688\n21   -29.969075\n22    47.070498\n23     8.983657\n24    10.862761\nName: MLE, dtype: float64"
     },
     "execution_count": 111,
     "metadata": {},
     "output_type": "execute_result"
    }
   ],
   "source": [
    "MLestimates"
   ],
   "metadata": {
    "collapsed": false
   }
  },
  {
   "cell_type": "code",
   "execution_count": 112,
   "outputs": [
    {
     "data": {
      "text/plain": "array([ True, False,  True, False, False, False,  True, False, False,\n       False, False, False, False, False, False,  True,  True,  True,\n        True,  True,  True,  True,  True,  True,  True,  True,  True,\n        True,  True,  True,  True,  True,  True, False, False, False,\n       False, False, False,  True, False,  True, False, False,  True,\n        True, False, False])"
     },
     "execution_count": 112,
     "metadata": {},
     "output_type": "execute_result"
    }
   ],
   "source": [
    "nonzero"
   ],
   "metadata": {
    "collapsed": false
   }
  },
  {
   "cell_type": "code",
   "execution_count": 104,
   "outputs": [
    {
     "data": {
      "text/plain": "13"
     },
     "execution_count": 104,
     "metadata": {},
     "output_type": "execute_result"
    }
   ],
   "source": [
    "nonzero.sum()"
   ],
   "metadata": {
    "collapsed": false
   }
  },
  {
   "cell_type": "code",
   "execution_count": 126,
   "outputs": [
    {
     "data": {
      "text/plain": "0     1.131064e-01\n1     9.951017e-02\n2     6.209183e-02\n3     4.495662e-03\n4     3.898026e-01\n5     2.563447e-01\n6     1.538645e-02\n7     6.607603e-01\n8     1.417178e-01\n9     3.661082e-02\n10    4.039600e-01\n11    3.282423e-01\n12    9.163724e-01\n13    7.448515e-01\n14    3.224621e-01\n15    4.801619e-01\n16    5.360983e-01\n17    5.735981e-04\n18    2.776291e-05\n19    2.706886e-04\n20    7.700332e-03\n21    3.570716e-06\n22    1.443290e-14\n23    1.711661e-01\n24    1.697268e-03\nName: pvalue, dtype: float64"
     },
     "execution_count": 126,
     "metadata": {},
     "output_type": "execute_result"
    }
   ],
   "source": [
    "pval"
   ],
   "metadata": {
    "collapsed": false
   }
  },
  {
   "cell_type": "code",
   "execution_count": 125,
   "outputs": [
    {
     "data": {
      "text/plain": "<Figure size 640x480 with 1 Axes>",
      "image/png": "[encoded data removed]"
     },
     "metadata": {},
     "output_type": "display_data"
    }
   ],
   "source": [
    "plot_full_CIs(MLestimates, intervals, col_names, nonzero,\n",
    "              \"Carving Intervals\")"
   ],
   "metadata": {
    "collapsed": false
   }
  },
  {
   "cell_type": "code",
   "execution_count": 114,
   "outputs": [],
   "source": [
    "proportion = 0.67\n",
    "conv_iso = group_lasso.logistic(X=X_standardized,\n",
    "                                successes=Y,\n",
    "                                trials=np.ones(n),\n",
    "                                groups=groups,\n",
    "                                weights=weights,\n",
    "                                useJacobian=True,\n",
    "                                cov_rand = X_standardized.T @ X_standardized * (1 - proportion) / proportion)\n",
    "signs_iso, soln_iso = conv_iso.fit()\n",
    "nonzero_iso = signs_iso != 0"
   ],
   "metadata": {
    "collapsed": false
   }
  },
  {
   "cell_type": "code",
   "execution_count": 115,
   "outputs": [],
   "source": [
    "conv_iso.setup_inference(dispersion=1)\n",
    "\n",
    "target_spec_iso = selected_targets(conv_iso.loglike,\n",
    "                               conv_iso.observed_soln,\n",
    "                               dispersion=1)\n",
    "\n",
    "result_iso = conv_iso.inference(target_spec_iso,\n",
    "                        method='selective_MLE',\n",
    "                        level=0.9)\n",
    "\n",
    "pval_iso = result_iso['pvalue']\n",
    "MLestimates_iso = result_iso['MLE']\n",
    "intervals_iso = np.asarray(result_iso[['lower_confidence',\n",
    "                               'upper_confidence']])"
   ],
   "metadata": {
    "collapsed": false
   }
  },
  {
   "cell_type": "code",
   "execution_count": 119,
   "outputs": [
    {
     "data": {
      "text/plain": "0    -127.801525\n1     -28.287078\n2       2.323766\n3      -0.937231\n4       3.364805\n5       5.288269\n6       6.577906\n7     -13.149823\n8     -15.427738\n9      -9.760618\n10     -6.370961\n11    -15.607071\n12     -7.413924\n13     -9.534162\n14    -14.361279\n15      0.011279\n16    -11.825143\n17    -28.228536\n18    -45.453362\n19    -45.887635\n20    -25.085521\n21     16.634235\n22     13.806193\n23      8.446619\n24     14.421199\n25      6.185495\nName: MLE, dtype: float64"
     },
     "execution_count": 119,
     "metadata": {},
     "output_type": "execute_result"
    }
   ],
   "source": [
    "MLestimates_iso"
   ],
   "metadata": {
    "collapsed": false
   }
  },
  {
   "cell_type": "code",
   "execution_count": 116,
   "outputs": [
    {
     "name": "stdout",
     "output_type": "stream",
     "text": [
      "[0.     0.     0.4999 0.8158 0.4461 0.2844 0.1819 0.0204 0.0001 0.0223\n",
      " 0.1855 0.0009 0.1261 0.0771 0.0015 0.9981 0.0165 0.     0.     0.\n",
      " 0.0003 0.     0.0002 0.0269 0.     0.0577]\n"
     ]
    }
   ],
   "source": [
    "np.set_printoptions(suppress=True, precision=4)\n",
    "print(np.array(pval_iso))"
   ],
   "metadata": {
    "collapsed": false
   }
  },
  {
   "cell_type": "code",
   "execution_count": 117,
   "outputs": [
    {
     "data": {
      "text/plain": "26"
     },
     "execution_count": 117,
     "metadata": {},
     "output_type": "execute_result"
    }
   ],
   "source": [
    "nonzero_iso.sum()"
   ],
   "metadata": {
    "collapsed": false
   }
  },
  {
   "cell_type": "code",
   "execution_count": 118,
   "outputs": [
    {
     "data": {
      "text/plain": "<Figure size 640x480 with 1 Axes>",
      "image/png": "[encoded data removed]"
     },
     "metadata": {},
     "output_type": "display_data"
    }
   ],
   "source": [
    "plot_full_CIs(MLestimates_iso, intervals_iso, col_names, nonzero_iso,\n",
    "              \"Isotropic Intervals\")"
   ],
   "metadata": {
    "collapsed": false
   }
  },
  {
   "cell_type": "code",
   "execution_count": 87,
   "outputs": [
    {
     "data": {
      "text/plain": "['Intercept',\n 'RIDAGEYR',\n 'INDFMPIR',\n 'BMXBMI',\n 'DBD895',\n 'DBD905',\n 'DBD910',\n 'RIDRETH1_Mexican_American',\n 'RIDRETH1_Other_Hispanic',\n 'RIDRETH1_Non_Hispanic_White',\n 'RIDRETH1_Non_Hispanic_Black',\n 'DMDEDUC2_1',\n 'DMDEDUC2_2',\n 'DMDEDUC2_3',\n 'DMDEDUC2_4',\n 'DMDMARTZ_married_living_with',\n 'DMDMARTZ_sep',\n 'INDFMMPC_1',\n 'INDFMMPC_2',\n 'ALQ121_0',\n 'ALQ121_1',\n 'ALQ121_2',\n 'ALQ121_3',\n 'ALQ121_4',\n 'ALQ121_5',\n 'ALQ121_6',\n 'ALQ121_7',\n 'ALQ121_8',\n 'ALQ121_9',\n 'DBQ700_1',\n 'DBQ700_2',\n 'DBQ700_3',\n 'DBQ700_4',\n 'DBQ197_never',\n 'DBQ197_rarely',\n 'DBQ197_sometimes',\n 'DBQ197_often',\n 'DIQ010_diabetes',\n 'DIQ010_diabetes_borderline',\n 'RIAGENDR_man',\n 'DMDBORN4_US',\n 'ALQ151_dummy',\n 'BPQ020_hypertension',\n 'BPQ080_high_cholesterol',\n 'SMQ020_smoke',\n 'MCQ010_asthma',\n 'MCQ053_anemia',\n 'MCQ092_blood_transfusion']"
     },
     "execution_count": 87,
     "metadata": {},
     "output_type": "execute_result"
    }
   ],
   "source": [
    "col_names"
   ],
   "metadata": {
    "collapsed": false
   }
  },
  {
   "cell_type": "code",
   "execution_count": 122,
   "outputs": [
    {
     "data": {
      "text/plain": "array(['Intercept', 'INDFMPIR', 'DBD910', 'DMDMARTZ_married_living_with',\n       'DMDMARTZ_sep', 'INDFMMPC_1', 'INDFMMPC_2', 'ALQ121_0', 'ALQ121_1',\n       'ALQ121_2', 'ALQ121_3', 'ALQ121_4', 'ALQ121_5', 'ALQ121_6',\n       'ALQ121_7', 'ALQ121_8', 'ALQ121_9', 'DBQ700_1', 'DBQ700_2',\n       'DBQ700_3', 'DBQ700_4', 'RIAGENDR_man', 'ALQ151_dummy',\n       'SMQ020_smoke', 'MCQ010_asthma'], dtype='<U28')"
     },
     "execution_count": 122,
     "metadata": {},
     "output_type": "execute_result"
    }
   ],
   "source": [
    "col_names = np.array(col_names)\n",
    "col_names[nonzero]"
   ],
   "metadata": {
    "collapsed": false
   }
  },
  {
   "cell_type": "code",
   "execution_count": 123,
   "outputs": [
    {
     "data": {
      "text/plain": "array([1, 2, 3, 4])"
     },
     "execution_count": 123,
     "metadata": {},
     "output_type": "execute_result"
    }
   ],
   "source": [
    "l = np.array([1,2,3,4,5,6,7])\n",
    "bool = np.array([True, True, True, True, False, False, False])\n",
    "l[bool]"
   ],
   "metadata": {
    "collapsed": false
   }
  },
  {
   "cell_type": "code",
   "execution_count": 124,
   "outputs": [
    {
     "data": {
      "text/plain": "77.36278174936577"
     },
     "execution_count": 124,
     "metadata": {},
     "output_type": "execute_result"
    }
   ],
   "source": [
    "np.sqrt(5985)"
   ],
   "metadata": {
    "collapsed": false
   }
  },
  {
   "cell_type": "code",
   "execution_count": null,
   "outputs": [],
   "source": [],
   "metadata": {
    "collapsed": false
   }
  }
 ],
 "metadata": {
  "kernelspec": {
   "display_name": "Python 3",
   "language": "python",
   "name": "python3"
  },
  "language_info": {
   "codemirror_mode": {
    "name": "ipython",
    "version": 2
   },
   "file_extension": ".py",
   "mimetype": "text/x-python",
   "name": "python",
   "nbconvert_exporter": "python",
   "pygments_lexer": "ipython2",
   "version": "2.7.6"
  }
 },
 "nbformat": 4,
 "nbformat_minor": 0
}
