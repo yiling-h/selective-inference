{
 "cells": [
  {
   "cell_type": "code",
   "execution_count": 99,
   "metadata": {
    "collapsed": true
   },
   "outputs": [],
   "source": [
    "import numpy as np\n",
    "import pandas as pd\n",
    "import nose.tools as nt\n",
    "import seaborn as sns\n",
    "import matplotlib.pyplot as plt\n",
    "\n",
    "from selectinf.base import (full_targets,\n",
    "                     selected_targets,\n",
    "                     debiased_targets)\n",
    "\n",
    "from selectinf.randomized.group_lasso_query import (group_lasso,\n",
    "                                                    split_group_lasso)"
   ]
  },
  {
   "cell_type": "markdown",
   "source": [
    "# Data Cleaning"
   ],
   "metadata": {
    "collapsed": false
   }
  },
  {
   "cell_type": "code",
   "execution_count": 3,
   "outputs": [],
   "source": [
    "data_raw = pd.read_csv(\"data_groups_dummy_encoded.csv\")"
   ],
   "metadata": {
    "collapsed": false
   }
  },
  {
   "cell_type": "code",
   "execution_count": 6,
   "outputs": [
    {
     "data": {
      "text/plain": "        SEQN  depressed  RIDAGEYR  INDFMPIR  BMXBMI  DBD895  DBD905  DBD910  \\\n0     109273          1        36      0.83    21.9       2       0       7   \n1     109274          0        68      1.20    30.2       0       0       0   \n2     109282          0        76      3.61    26.6       1       1       8   \n3     109292          0        58      1.60    30.5       2      10       3   \n4     109293          0        44      0.02    30.1       3       7       0   \n...      ...        ...       ...       ...     ...     ...     ...     ...   \n5980  124814          0        64      2.00    37.5       3       1       2   \n5981  124815          0        52      5.00    29.5       1       0       0   \n5982  124817          0        67      2.19    37.9       4       0       0   \n5983  124818          0        40      3.82    38.2       4       5       0   \n5984  124821          0        63      3.71    25.5       0       0       0   \n\n      RIDRETH1_Mexican_American  RIDRETH1_Other_Hispanic  ...  RIAGENDR_man  \\\n0                             0                        0  ...             1   \n1                             0                        0  ...             1   \n2                             0                        0  ...             1   \n3                             0                        1  ...             1   \n4                             0                        0  ...             1   \n...                         ...                      ...  ...           ...   \n5980                          0                        0  ...             1   \n5981                          0                        0  ...             1   \n5982                          1                        0  ...             0   \n5983                          0                        0  ...             1   \n5984                          0                        0  ...             1   \n\n      DMDBORN4_US  ALQ111_dummy  ALQ151_dummy  BPQ020_hypertension  \\\n0               1             1             0                    0   \n1               1             1             0                    1   \n2               1             1             0                    1   \n3               1             1             0                    1   \n4               1             1             1                    0   \n...           ...           ...           ...                  ...   \n5980            1             1             0                    0   \n5981            1             1             0                    0   \n5982            0             1             0                    0   \n5983            1             1             0                    0   \n5984            1             1             0                    1   \n\n      BPQ080_high_cholesterol  SMQ020_smoke  MCQ010_asthma  MCQ053_anemia  \\\n0                           0             1              0              0   \n1                           1             0              0              0   \n2                           1             1              0              1   \n3                           1             0              1              0   \n4                           0             0              0              0   \n...                       ...           ...            ...            ...   \n5980                        0             1              0              0   \n5981                        0             1              0              0   \n5982                        1             0              0              0   \n5983                        0             0              0              0   \n5984                        1             0              1              0   \n\n      MCQ092_blood_transfusion  \n0                            0  \n1                            0  \n2                            0  \n3                            0  \n4                            0  \n...                        ...  \n5980                         0  \n5981                         0  \n5982                         0  \n5983                         0  \n5984                         0  \n\n[5985 rows x 50 columns]",
      "text/html": "<div>\n<style scoped>\n    .dataframe tbody tr th:only-of-type {\n        vertical-align: middle;\n    }\n\n    .dataframe tbody tr th {\n        vertical-align: top;\n    }\n\n    .dataframe thead th {\n        text-align: right;\n    }\n</style>\n<table border=\"1\" class=\"dataframe\">\n  <thead>\n    <tr style=\"text-align: right;\">\n      <th></th>\n      <th>SEQN</th>\n      <th>depressed</th>\n      <th>RIDAGEYR</th>\n      <th>INDFMPIR</th>\n      <th>BMXBMI</th>\n      <th>DBD895</th>\n      <th>DBD905</th>\n      <th>DBD910</th>\n      <th>RIDRETH1_Mexican_American</th>\n      <th>RIDRETH1_Other_Hispanic</th>\n      <th>...</th>\n      <th>RIAGENDR_man</th>\n      <th>DMDBORN4_US</th>\n      <th>ALQ111_dummy</th>\n      <th>ALQ151_dummy</th>\n      <th>BPQ020_hypertension</th>\n      <th>BPQ080_high_cholesterol</th>\n      <th>SMQ020_smoke</th>\n      <th>MCQ010_asthma</th>\n      <th>MCQ053_anemia</th>\n      <th>MCQ092_blood_transfusion</th>\n    </tr>\n  </thead>\n  <tbody>\n    <tr>\n      <th>0</th>\n      <td>109273</td>\n      <td>1</td>\n      <td>36</td>\n      <td>0.83</td>\n      <td>21.9</td>\n      <td>2</td>\n      <td>0</td>\n      <td>7</td>\n      <td>0</td>\n      <td>0</td>\n      <td>...</td>\n      <td>1</td>\n      <td>1</td>\n      <td>1</td>\n      <td>0</td>\n      <td>0</td>\n      <td>0</td>\n      <td>1</td>\n      <td>0</td>\n      <td>0</td>\n      <td>0</td>\n    </tr>\n    <tr>\n      <th>1</th>\n      <td>109274</td>\n      <td>0</td>\n      <td>68</td>\n      <td>1.20</td>\n      <td>30.2</td>\n      <td>0</td>\n      <td>0</td>\n      <td>0</td>\n      <td>0</td>\n      <td>0</td>\n      <td>...</td>\n      <td>1</td>\n      <td>1</td>\n      <td>1</td>\n      <td>0</td>\n      <td>1</td>\n      <td>1</td>\n      <td>0</td>\n      <td>0</td>\n      <td>0</td>\n      <td>0</td>\n    </tr>\n    <tr>\n      <th>2</th>\n      <td>109282</td>\n      <td>0</td>\n      <td>76</td>\n      <td>3.61</td>\n      <td>26.6</td>\n      <td>1</td>\n      <td>1</td>\n      <td>8</td>\n      <td>0</td>\n      <td>0</td>\n      <td>...</td>\n      <td>1</td>\n      <td>1</td>\n      <td>1</td>\n      <td>0</td>\n      <td>1</td>\n      <td>1</td>\n      <td>1</td>\n      <td>0</td>\n      <td>1</td>\n      <td>0</td>\n    </tr>\n    <tr>\n      <th>3</th>\n      <td>109292</td>\n      <td>0</td>\n      <td>58</td>\n      <td>1.60</td>\n      <td>30.5</td>\n      <td>2</td>\n      <td>10</td>\n      <td>3</td>\n      <td>0</td>\n      <td>1</td>\n      <td>...</td>\n      <td>1</td>\n      <td>1</td>\n      <td>1</td>\n      <td>0</td>\n      <td>1</td>\n      <td>1</td>\n      <td>0</td>\n      <td>1</td>\n      <td>0</td>\n      <td>0</td>\n    </tr>\n    <tr>\n      <th>4</th>\n      <td>109293</td>\n      <td>0</td>\n      <td>44</td>\n      <td>0.02</td>\n      <td>30.1</td>\n      <td>3</td>\n      <td>7</td>\n      <td>0</td>\n      <td>0</td>\n      <td>0</td>\n      <td>...</td>\n      <td>1</td>\n      <td>1</td>\n      <td>1</td>\n      <td>1</td>\n      <td>0</td>\n      <td>0</td>\n      <td>0</td>\n      <td>0</td>\n      <td>0</td>\n      <td>0</td>\n    </tr>\n    <tr>\n      <th>...</th>\n      <td>...</td>\n      <td>...</td>\n      <td>...</td>\n      <td>...</td>\n      <td>...</td>\n      <td>...</td>\n      <td>...</td>\n      <td>...</td>\n      <td>...</td>\n      <td>...</td>\n      <td>...</td>\n      <td>...</td>\n      <td>...</td>\n      <td>...</td>\n      <td>...</td>\n      <td>...</td>\n      <td>...</td>\n      <td>...</td>\n      <td>...</td>\n      <td>...</td>\n      <td>...</td>\n    </tr>\n    <tr>\n      <th>5980</th>\n      <td>124814</td>\n      <td>0</td>\n      <td>64</td>\n      <td>2.00</td>\n      <td>37.5</td>\n      <td>3</td>\n      <td>1</td>\n      <td>2</td>\n      <td>0</td>\n      <td>0</td>\n      <td>...</td>\n      <td>1</td>\n      <td>1</td>\n      <td>1</td>\n      <td>0</td>\n      <td>0</td>\n      <td>0</td>\n      <td>1</td>\n      <td>0</td>\n      <td>0</td>\n      <td>0</td>\n    </tr>\n    <tr>\n      <th>5981</th>\n      <td>124815</td>\n      <td>0</td>\n      <td>52</td>\n      <td>5.00</td>\n      <td>29.5</td>\n      <td>1</td>\n      <td>0</td>\n      <td>0</td>\n      <td>0</td>\n      <td>0</td>\n      <td>...</td>\n      <td>1</td>\n      <td>1</td>\n      <td>1</td>\n      <td>0</td>\n      <td>0</td>\n      <td>0</td>\n      <td>1</td>\n      <td>0</td>\n      <td>0</td>\n      <td>0</td>\n    </tr>\n    <tr>\n      <th>5982</th>\n      <td>124817</td>\n      <td>0</td>\n      <td>67</td>\n      <td>2.19</td>\n      <td>37.9</td>\n      <td>4</td>\n      <td>0</td>\n      <td>0</td>\n      <td>1</td>\n      <td>0</td>\n      <td>...</td>\n      <td>0</td>\n      <td>0</td>\n      <td>1</td>\n      <td>0</td>\n      <td>0</td>\n      <td>1</td>\n      <td>0</td>\n      <td>0</td>\n      <td>0</td>\n      <td>0</td>\n    </tr>\n    <tr>\n      <th>5983</th>\n      <td>124818</td>\n      <td>0</td>\n      <td>40</td>\n      <td>3.82</td>\n      <td>38.2</td>\n      <td>4</td>\n      <td>5</td>\n      <td>0</td>\n      <td>0</td>\n      <td>0</td>\n      <td>...</td>\n      <td>1</td>\n      <td>1</td>\n      <td>1</td>\n      <td>0</td>\n      <td>0</td>\n      <td>0</td>\n      <td>0</td>\n      <td>0</td>\n      <td>0</td>\n      <td>0</td>\n    </tr>\n    <tr>\n      <th>5984</th>\n      <td>124821</td>\n      <td>0</td>\n      <td>63</td>\n      <td>3.71</td>\n      <td>25.5</td>\n      <td>0</td>\n      <td>0</td>\n      <td>0</td>\n      <td>0</td>\n      <td>0</td>\n      <td>...</td>\n      <td>1</td>\n      <td>1</td>\n      <td>1</td>\n      <td>0</td>\n      <td>1</td>\n      <td>1</td>\n      <td>0</td>\n      <td>1</td>\n      <td>0</td>\n      <td>0</td>\n    </tr>\n  </tbody>\n</table>\n<p>5985 rows × 50 columns</p>\n</div>"
     },
     "execution_count": 6,
     "metadata": {},
     "output_type": "execute_result"
    }
   ],
   "source": [
    "data_raw"
   ],
   "metadata": {
    "collapsed": false
   }
  },
  {
   "cell_type": "code",
   "execution_count": 38,
   "outputs": [],
   "source": [
    "DBQ197 = data_raw[[\"DBQ197_never\",\"DBQ197_often\",\n",
    "        \"DBQ197_rarely\", \"DBQ197_sometimes\"]].to_numpy()"
   ],
   "metadata": {
    "collapsed": false
   }
  },
  {
   "cell_type": "code",
   "execution_count": 42,
   "outputs": [
    {
     "data": {
      "text/plain": "0"
     },
     "execution_count": 42,
     "metadata": {},
     "output_type": "execute_result"
    }
   ],
   "source": [
    "(data_raw[\"ALQ111_dummy\"] != 1).sum()"
   ],
   "metadata": {
    "collapsed": false
   }
  },
  {
   "cell_type": "code",
   "execution_count": 52,
   "outputs": [],
   "source": [
    "data_X = data_raw[data_raw.columns[2:50]].drop(columns=\"ALQ111_dummy\")"
   ],
   "metadata": {
    "collapsed": false
   }
  },
  {
   "cell_type": "code",
   "execution_count": 54,
   "outputs": [
    {
     "data": {
      "text/plain": "Index(['RIDAGEYR', 'INDFMPIR', 'BMXBMI', 'DBD895', 'DBD905', 'DBD910',\n       'RIDRETH1_Mexican_American', 'RIDRETH1_Other_Hispanic',\n       'RIDRETH1_Non_Hispanic_White', 'RIDRETH1_Non_Hispanic_Black',\n       'DMDEDUC2_1', 'DMDEDUC2_2', 'DMDEDUC2_3', 'DMDEDUC2_4',\n       'DMDMARTZ_married_living_with', 'DMDMARTZ_sep', 'INDFMMPC_1',\n       'INDFMMPC_2', 'ALQ121_0', 'ALQ121_1', 'ALQ121_2', 'ALQ121_3',\n       'ALQ121_4', 'ALQ121_5', 'ALQ121_6', 'ALQ121_7', 'ALQ121_8', 'ALQ121_9',\n       'DBQ700_1', 'DBQ700_2', 'DBQ700_3', 'DBQ700_4', 'DBQ197_never',\n       'DBQ197_rarely', 'DBQ197_sometimes', 'DBQ197_often', 'DIQ010_diabetes',\n       'DIQ010_diabetes_borderline', 'RIAGENDR_man', 'DMDBORN4_US',\n       'ALQ151_dummy', 'BPQ020_hypertension', 'BPQ080_high_cholesterol',\n       'SMQ020_smoke', 'MCQ010_asthma', 'MCQ053_anemia',\n       'MCQ092_blood_transfusion'],\n      dtype='object')"
     },
     "execution_count": 54,
     "metadata": {},
     "output_type": "execute_result"
    }
   ],
   "source": [
    "data_X.columns"
   ],
   "metadata": {
    "collapsed": false
   }
  },
  {
   "cell_type": "code",
   "execution_count": 55,
   "outputs": [],
   "source": [
    "data_X = data_X.to_numpy()"
   ],
   "metadata": {
    "collapsed": false
   }
  },
  {
   "cell_type": "code",
   "execution_count": 56,
   "outputs": [
    {
     "data": {
      "text/plain": "47"
     },
     "execution_count": 56,
     "metadata": {},
     "output_type": "execute_result"
    }
   ],
   "source": [
    "np.linalg.matrix_rank(data_X)"
   ],
   "metadata": {
    "collapsed": false
   }
  },
  {
   "cell_type": "code",
   "execution_count": 57,
   "outputs": [
    {
     "data": {
      "text/plain": "(5985, 47)"
     },
     "execution_count": 57,
     "metadata": {},
     "output_type": "execute_result"
    }
   ],
   "source": [
    "data_X.shape"
   ],
   "metadata": {
    "collapsed": false
   }
  },
  {
   "cell_type": "code",
   "execution_count": 58,
   "outputs": [],
   "source": [
    "design_X = np.zeros((5985,48))\n",
    "design_X[:,0] = np.ones((5985,))\n",
    "design_X[:,1:48] = data_X"
   ],
   "metadata": {
    "collapsed": false
   }
  },
  {
   "cell_type": "code",
   "execution_count": 59,
   "outputs": [
    {
     "data": {
      "text/plain": "48"
     },
     "execution_count": 59,
     "metadata": {},
     "output_type": "execute_result"
    }
   ],
   "source": [
    "np.linalg.matrix_rank(design_X)"
   ],
   "metadata": {
    "collapsed": false
   }
  },
  {
   "cell_type": "code",
   "execution_count": 60,
   "outputs": [
    {
     "data": {
      "text/plain": "(5985, 48)"
     },
     "execution_count": 60,
     "metadata": {},
     "output_type": "execute_result"
    }
   ],
   "source": [
    "design_X.shape"
   ],
   "metadata": {
    "collapsed": false
   }
  },
  {
   "cell_type": "code",
   "execution_count": 61,
   "outputs": [
    {
     "data": {
      "text/plain": "array([[ 1.  , 36.  ,  0.83, ...,  0.  ,  0.  ,  0.  ],\n       [ 1.  , 68.  ,  1.2 , ...,  0.  ,  0.  ,  0.  ],\n       [ 1.  , 76.  ,  3.61, ...,  0.  ,  1.  ,  0.  ],\n       ...,\n       [ 1.  , 67.  ,  2.19, ...,  0.  ,  0.  ,  0.  ],\n       [ 1.  , 40.  ,  3.82, ...,  0.  ,  0.  ,  0.  ],\n       [ 1.  , 63.  ,  3.71, ...,  1.  ,  0.  ,  0.  ]])"
     },
     "execution_count": 61,
     "metadata": {},
     "output_type": "execute_result"
    }
   ],
   "source": [
    "design_X"
   ],
   "metadata": {
    "collapsed": false
   }
  },
  {
   "cell_type": "markdown",
   "source": [
    "# Construct Groups"
   ],
   "metadata": {
    "collapsed": false
   }
  },
  {
   "cell_type": "code",
   "execution_count": 67,
   "outputs": [
    {
     "data": {
      "text/plain": "Index(['RIDAGEYR', 'INDFMPIR', 'BMXBMI', 'DBD895', 'DBD905', 'DBD910',\n       'RIDRETH1_Mexican_American', 'RIDRETH1_Other_Hispanic',\n       'RIDRETH1_Non_Hispanic_White', 'RIDRETH1_Non_Hispanic_Black',\n       'DMDEDUC2_1', 'DMDEDUC2_2', 'DMDEDUC2_3', 'DMDEDUC2_4',\n       'DMDMARTZ_married_living_with', 'DMDMARTZ_sep', 'INDFMMPC_1',\n       'INDFMMPC_2', 'ALQ121_0', 'ALQ121_1', 'ALQ121_2', 'ALQ121_3',\n       'ALQ121_4', 'ALQ121_5', 'ALQ121_6', 'ALQ121_7', 'ALQ121_8', 'ALQ121_9',\n       'DBQ700_1', 'DBQ700_2', 'DBQ700_3', 'DBQ700_4', 'DBQ197_never',\n       'DBQ197_rarely', 'DBQ197_sometimes', 'DBQ197_often', 'DIQ010_diabetes',\n       'DIQ010_diabetes_borderline', 'RIAGENDR_man', 'DMDBORN4_US',\n       'ALQ151_dummy', 'BPQ020_hypertension', 'BPQ080_high_cholesterol',\n       'SMQ020_smoke', 'MCQ010_asthma', 'MCQ053_anemia',\n       'MCQ092_blood_transfusion'],\n      dtype='object')"
     },
     "execution_count": 67,
     "metadata": {},
     "output_type": "execute_result"
    }
   ],
   "source": [
    "data_raw[data_raw.columns[2:50]].drop(columns=\"ALQ111_dummy\").columns"
   ],
   "metadata": {
    "collapsed": false
   }
  },
  {
   "cell_type": "code",
   "execution_count": 129,
   "outputs": [],
   "source": [
    "groups = np.zeros((48,))\n",
    "groups[0] = int(0) # Intercept\n",
    "# Singletons\n",
    "for i in range(1,7):\n",
    "    groups[i] = int(i)\n",
    "# RIDRETH1\n",
    "groups[7:11] = int(7)\n",
    "# DMDEDUC2\n",
    "groups[11:15] = int(8)\n",
    "# DMDMARTZ\n",
    "groups[15:17] = int(9)\n",
    "# INDFMMPC\n",
    "groups[17:19] = int(10)\n",
    "# ALQ121\n",
    "groups[19:29] = int(11)\n",
    "# DBQ700\n",
    "groups[29:33] = int(12)\n",
    "# DBQ197\n",
    "groups[33:37] = int(13)\n",
    "# DIQ010\n",
    "groups[37:39] = int(14)\n",
    "# Singletons\n",
    "for i in range(39,48):\n",
    "    groups[i] = int(i-24)\n",
    "\n",
    "groups = groups.astype(int)"
   ],
   "metadata": {
    "collapsed": false
   }
  },
  {
   "cell_type": "code",
   "execution_count": 118,
   "outputs": [],
   "source": [
    "col_names = data_raw[data_raw.columns[2:50]].drop(columns=\"ALQ111_dummy\").columns.values.tolist()\n",
    "col_names = ['Intercept'] + col_names"
   ],
   "metadata": {
    "collapsed": false
   }
  },
  {
   "cell_type": "code",
   "execution_count": 151,
   "outputs": [
    {
     "data": {
      "text/plain": "          0         1         2       3       4       5       6   \\\n0          0         1         2       3       4       5       6   \n1  Intercept  RIDAGEYR  INDFMPIR  BMXBMI  DBD895  DBD905  DBD910   \n\n                          7                        8   \\\n0                          7                        7   \n1  RIDRETH1_Mexican_American  RIDRETH1_Other_Hispanic   \n\n                            9   ...                          38            39  \\\n0                            7  ...                          14            15   \n1  RIDRETH1_Non_Hispanic_White  ...  DIQ010_diabetes_borderline  RIAGENDR_man   \n\n            40            41                   42                       43  \\\n0           16            17                   18                       19   \n1  DMDBORN4_US  ALQ151_dummy  BPQ020_hypertension  BPQ080_high_cholesterol   \n\n             44             45             46                        47  \n0            20             21             22                        23  \n1  SMQ020_smoke  MCQ010_asthma  MCQ053_anemia  MCQ092_blood_transfusion  \n\n[2 rows x 48 columns]",
      "text/html": "<div>\n<style scoped>\n    .dataframe tbody tr th:only-of-type {\n        vertical-align: middle;\n    }\n\n    .dataframe tbody tr th {\n        vertical-align: top;\n    }\n\n    .dataframe thead th {\n        text-align: right;\n    }\n</style>\n<table border=\"1\" class=\"dataframe\">\n  <thead>\n    <tr style=\"text-align: right;\">\n      <th></th>\n      <th>0</th>\n      <th>1</th>\n      <th>2</th>\n      <th>3</th>\n      <th>4</th>\n      <th>5</th>\n      <th>6</th>\n      <th>7</th>\n      <th>8</th>\n      <th>9</th>\n      <th>...</th>\n      <th>38</th>\n      <th>39</th>\n      <th>40</th>\n      <th>41</th>\n      <th>42</th>\n      <th>43</th>\n      <th>44</th>\n      <th>45</th>\n      <th>46</th>\n      <th>47</th>\n    </tr>\n  </thead>\n  <tbody>\n    <tr>\n      <th>0</th>\n      <td>0</td>\n      <td>1</td>\n      <td>2</td>\n      <td>3</td>\n      <td>4</td>\n      <td>5</td>\n      <td>6</td>\n      <td>7</td>\n      <td>7</td>\n      <td>7</td>\n      <td>...</td>\n      <td>14</td>\n      <td>15</td>\n      <td>16</td>\n      <td>17</td>\n      <td>18</td>\n      <td>19</td>\n      <td>20</td>\n      <td>21</td>\n      <td>22</td>\n      <td>23</td>\n    </tr>\n    <tr>\n      <th>1</th>\n      <td>Intercept</td>\n      <td>RIDAGEYR</td>\n      <td>INDFMPIR</td>\n      <td>BMXBMI</td>\n      <td>DBD895</td>\n      <td>DBD905</td>\n      <td>DBD910</td>\n      <td>RIDRETH1_Mexican_American</td>\n      <td>RIDRETH1_Other_Hispanic</td>\n      <td>RIDRETH1_Non_Hispanic_White</td>\n      <td>...</td>\n      <td>DIQ010_diabetes_borderline</td>\n      <td>RIAGENDR_man</td>\n      <td>DMDBORN4_US</td>\n      <td>ALQ151_dummy</td>\n      <td>BPQ020_hypertension</td>\n      <td>BPQ080_high_cholesterol</td>\n      <td>SMQ020_smoke</td>\n      <td>MCQ010_asthma</td>\n      <td>MCQ053_anemia</td>\n      <td>MCQ092_blood_transfusion</td>\n    </tr>\n  </tbody>\n</table>\n<p>2 rows × 48 columns</p>\n</div>"
     },
     "execution_count": 151,
     "metadata": {},
     "output_type": "execute_result"
    }
   ],
   "source": [
    "# Sanity check for groupings\n",
    "pd.DataFrame([groups,col_names])"
   ],
   "metadata": {
    "collapsed": false
   }
  },
  {
   "cell_type": "code",
   "execution_count": 144,
   "outputs": [],
   "source": [
    "n,p = design_X.shape\n",
    "scaling_cts = np.ones((p,))\n",
    "scaling_cts[1:7] = design_X.std(0)[1:7]\n",
    "cts_logical = np.zeros((p,))\n",
    "cts_logical[1:7] = 1."
   ],
   "metadata": {
    "collapsed": false
   }
  },
  {
   "cell_type": "code",
   "execution_count": 146,
   "outputs": [
    {
     "name": "stdout",
     "output_type": "stream",
     "text": [
      "48\n",
      "48\n",
      "48\n"
     ]
    }
   ],
   "source": [
    "print(np.linalg.matrix_rank(design_X))\n",
    "scaling = design_X.std(0) * np.sqrt(n)\n",
    "scaling[0] = np.sqrt(n)\n",
    "X_standardized = design_X - (cts_logical * design_X.mean(axis = 0))\n",
    "print(np.linalg.matrix_rank(X_standardized))\n",
    "X_standardized = X_standardized / scaling[None, :]\n",
    "print(np.linalg.matrix_rank(X_standardized))"
   ],
   "metadata": {
    "collapsed": false
   }
  },
  {
   "cell_type": "code",
   "execution_count": 147,
   "outputs": [],
   "source": [
    "Y = data_raw[\"depressed\"]\n",
    "sigma_ = np.std(Y)\n",
    "weight_frac = 0.5\n",
    "sigma_ = 1\n",
    "weights = dict([(i, weight_frac * sigma_ * np.sqrt(2 * np.log(p))) for i in np.unique(groups)])\n",
    "weights[0] = 0"
   ],
   "metadata": {
    "collapsed": false
   }
  },
  {
   "cell_type": "code",
   "execution_count": 149,
   "outputs": [
    {
     "ename": "ValueError",
     "evalue": "shapes (13,22) and (23,23) not aligned: 22 (dim 1) != 23 (dim 0)",
     "output_type": "error",
     "traceback": [
      "\u001B[0;31m---------------------------------------------------------------------------\u001B[0m",
      "\u001B[0;31mValueError\u001B[0m                                Traceback (most recent call last)",
      "Cell \u001B[0;32mIn[149], line 8\u001B[0m\n\u001B[1;32m      1\u001B[0m conv \u001B[38;5;241m=\u001B[39m split_group_lasso\u001B[38;5;241m.\u001B[39mlogistic(X\u001B[38;5;241m=\u001B[39mX_standardized,\n\u001B[1;32m      2\u001B[0m                                       successes\u001B[38;5;241m=\u001B[39mY,\n\u001B[1;32m      3\u001B[0m                                       trials\u001B[38;5;241m=\u001B[39mnp\u001B[38;5;241m.\u001B[39mones(n),\n\u001B[0;32m   (...)\u001B[0m\n\u001B[1;32m      6\u001B[0m                                       useJacobian\u001B[38;5;241m=\u001B[39m\u001B[38;5;28;01mTrue\u001B[39;00m,\n\u001B[1;32m      7\u001B[0m                                       proportion\u001B[38;5;241m=\u001B[39m\u001B[38;5;241m0.67\u001B[39m)\n\u001B[0;32m----> 8\u001B[0m signs, soln \u001B[38;5;241m=\u001B[39m \u001B[43mconv\u001B[49m\u001B[38;5;241;43m.\u001B[39;49m\u001B[43mfit\u001B[49m\u001B[43m(\u001B[49m\u001B[43m)\u001B[49m\n\u001B[1;32m      9\u001B[0m nonzero \u001B[38;5;241m=\u001B[39m signs \u001B[38;5;241m!=\u001B[39m \u001B[38;5;241m0\u001B[39m\n",
      "File \u001B[0;32m~/Desktop/PhD/SI_Codes/selective-inference/selectinf/randomized/group_lasso_query.py:430\u001B[0m, in \u001B[0;36msplit_group_lasso.fit\u001B[0;34m(self, solve_args, perturb)\u001B[0m\n\u001B[1;32m    426\u001B[0m \u001B[38;5;28;01mdef\u001B[39;00m \u001B[38;5;21mfit\u001B[39m(\u001B[38;5;28mself\u001B[39m,\n\u001B[1;32m    427\u001B[0m         solve_args\u001B[38;5;241m=\u001B[39m{\u001B[38;5;124m'\u001B[39m\u001B[38;5;124mtol\u001B[39m\u001B[38;5;124m'\u001B[39m: \u001B[38;5;241m1.e-12\u001B[39m, \u001B[38;5;124m'\u001B[39m\u001B[38;5;124mmin_its\u001B[39m\u001B[38;5;124m'\u001B[39m: \u001B[38;5;241m50\u001B[39m},\n\u001B[1;32m    428\u001B[0m         perturb\u001B[38;5;241m=\u001B[39m\u001B[38;5;28;01mNone\u001B[39;00m):\n\u001B[0;32m--> 430\u001B[0m     signs, soln \u001B[38;5;241m=\u001B[39m \u001B[43mgroup_lasso\u001B[49m\u001B[38;5;241;43m.\u001B[39;49m\u001B[43mfit\u001B[49m\u001B[43m(\u001B[49m\u001B[38;5;28;43mself\u001B[39;49m\u001B[43m,\u001B[49m\n\u001B[1;32m    431\u001B[0m \u001B[43m                                  \u001B[49m\u001B[43msolve_args\u001B[49m\u001B[38;5;241;43m=\u001B[39;49m\u001B[43msolve_args\u001B[49m\u001B[43m,\u001B[49m\n\u001B[1;32m    432\u001B[0m \u001B[43m                                  \u001B[49m\u001B[43mperturb\u001B[49m\u001B[38;5;241;43m=\u001B[39;49m\u001B[43mperturb\u001B[49m\u001B[43m)\u001B[49m\n\u001B[1;32m    434\u001B[0m     \u001B[38;5;66;03m# exception if no groups are selected\u001B[39;00m\n\u001B[1;32m    435\u001B[0m     \u001B[38;5;28;01mif\u001B[39;00m \u001B[38;5;28mlen\u001B[39m(\u001B[38;5;28mself\u001B[39m\u001B[38;5;241m.\u001B[39mselection_variable[\u001B[38;5;124m'\u001B[39m\u001B[38;5;124mactive_groups\u001B[39m\u001B[38;5;124m'\u001B[39m]) \u001B[38;5;241m==\u001B[39m \u001B[38;5;241m0\u001B[39m:\n",
      "File \u001B[0;32m~/Desktop/PhD/SI_Codes/selective-inference/selectinf/randomized/group_lasso_query.py:182\u001B[0m, in \u001B[0;36mgroup_lasso.fit\u001B[0;34m(self, solve_args, perturb)\u001B[0m\n\u001B[1;32m    180\u001B[0m Q \u001B[38;5;241m=\u001B[39m XE\u001B[38;5;241m.\u001B[39mT\u001B[38;5;241m.\u001B[39mdot(\u001B[38;5;28mself\u001B[39m\u001B[38;5;241m.\u001B[39m_W[:, \u001B[38;5;28;01mNone\u001B[39;00m] \u001B[38;5;241m*\u001B[39m XE)\n\u001B[1;32m    181\u001B[0m QI \u001B[38;5;241m=\u001B[39m inv(Q)\n\u001B[0;32m--> 182\u001B[0m C \u001B[38;5;241m=\u001B[39m \u001B[43mV\u001B[49m\u001B[38;5;241;43m.\u001B[39;49m\u001B[43mT\u001B[49m\u001B[38;5;241;43m.\u001B[39;49m\u001B[43mdot\u001B[49m\u001B[43m(\u001B[49m\u001B[43mQI\u001B[49m\u001B[43m)\u001B[49m\u001B[38;5;241m.\u001B[39mdot(L)\u001B[38;5;241m.\u001B[39mdot(V)\n\u001B[1;32m    184\u001B[0m \u001B[38;5;28mself\u001B[39m\u001B[38;5;241m.\u001B[39mXE \u001B[38;5;241m=\u001B[39m XE\n\u001B[1;32m    185\u001B[0m \u001B[38;5;28mself\u001B[39m\u001B[38;5;241m.\u001B[39mQ \u001B[38;5;241m=\u001B[39m Q\n",
      "\u001B[0;31mValueError\u001B[0m: shapes (13,22) and (23,23) not aligned: 22 (dim 1) != 23 (dim 0)"
     ]
    }
   ],
   "source": [
    "conv = split_group_lasso.logistic(X=X_standardized,\n",
    "                                      successes=Y,\n",
    "                                      trials=np.ones(n),\n",
    "                                      groups=groups,\n",
    "                                      weights=weights,\n",
    "                                      useJacobian=True,\n",
    "                                      proportion=0.67)\n",
    "signs, soln = conv.fit()\n",
    "nonzero = signs != 0"
   ],
   "metadata": {
    "collapsed": false
   }
  },
  {
   "cell_type": "code",
   "execution_count": 123,
   "outputs": [],
   "source": [
    "conv.setup_inference(dispersion=1)\n",
    "\n",
    "target_spec = selected_targets(conv.loglike,\n",
    "                               conv.observed_soln,\n",
    "                               dispersion=1)\n",
    "\n",
    "result = conv.inference(target_spec,\n",
    "                        method='selective_MLE',\n",
    "                        level=0.9)\n",
    "\n",
    "pval = result['pvalue']\n",
    "intervals = np.asarray(result[['lower_confidence',\n",
    "                               'upper_confidence']])"
   ],
   "metadata": {
    "collapsed": false
   }
  },
  {
   "cell_type": "code",
   "execution_count": 124,
   "outputs": [
    {
     "data": {
      "text/plain": "array([False, False,  True,  True, False, False,  True, False, False,\n       False, False, False, False, False, False,  True,  True, False,\n       False,  True,  True,  True,  True,  True,  True,  True,  True,\n        True,  True,  True,  True,  True,  True, False, False, False,\n       False, False, False,  True, False,  True, False, False,  True,\n        True, False, False])"
     },
     "execution_count": 124,
     "metadata": {},
     "output_type": "execute_result"
    }
   ],
   "source": [
    "nonzero"
   ],
   "metadata": {
    "collapsed": false
   }
  },
  {
   "cell_type": "code",
   "execution_count": 125,
   "outputs": [
    {
     "data": {
      "text/plain": "23"
     },
     "execution_count": 125,
     "metadata": {},
     "output_type": "execute_result"
    }
   ],
   "source": [
    "nonzero.sum()"
   ],
   "metadata": {
    "collapsed": false
   }
  },
  {
   "cell_type": "code",
   "execution_count": 126,
   "outputs": [
    {
     "data": {
      "text/plain": "0     0.022754\n1     0.940999\n2     0.038752\n3     0.409326\n4     0.336704\n5     0.737676\n6     0.431419\n7     0.972185\n8     0.914992\n9     0.269062\n10    0.486398\n11    0.546491\n12    0.902279\n13    0.944154\n14    0.807458\n15    0.007525\n16    0.003701\n17    0.007047\n18    0.039266\n19    0.029305\n20    0.005042\n21    0.787656\n22    0.006821\nName: pvalue, dtype: float64"
     },
     "execution_count": 126,
     "metadata": {},
     "output_type": "execute_result"
    }
   ],
   "source": [
    "pval"
   ],
   "metadata": {
    "collapsed": false
   }
  },
  {
   "cell_type": "code",
   "execution_count": 153,
   "outputs": [
    {
     "ename": "ValueError",
     "evalue": "shapes (23,37) and (38,38) not aligned: 37 (dim 1) != 38 (dim 0)",
     "output_type": "error",
     "traceback": [
      "\u001B[0;31m---------------------------------------------------------------------------\u001B[0m",
      "\u001B[0;31mValueError\u001B[0m                                Traceback (most recent call last)",
      "Cell \u001B[0;32mIn[153], line 8\u001B[0m\n\u001B[1;32m      1\u001B[0m conv_iso \u001B[38;5;241m=\u001B[39m group_lasso\u001B[38;5;241m.\u001B[39mlogistic(X\u001B[38;5;241m=\u001B[39mX_standardized,\n\u001B[1;32m      2\u001B[0m                                       successes\u001B[38;5;241m=\u001B[39mY,\n\u001B[1;32m      3\u001B[0m                                       trials\u001B[38;5;241m=\u001B[39mnp\u001B[38;5;241m.\u001B[39mones(n),\n\u001B[0;32m   (...)\u001B[0m\n\u001B[1;32m      6\u001B[0m                                       useJacobian\u001B[38;5;241m=\u001B[39m\u001B[38;5;28;01mTrue\u001B[39;00m,\n\u001B[1;32m      7\u001B[0m                             randomizer_scale\u001B[38;5;241m=\u001B[39msigma_)\n\u001B[0;32m----> 8\u001B[0m signs_iso, soln_iso \u001B[38;5;241m=\u001B[39m \u001B[43mconv_iso\u001B[49m\u001B[38;5;241;43m.\u001B[39;49m\u001B[43mfit\u001B[49m\u001B[43m(\u001B[49m\u001B[43m)\u001B[49m\n\u001B[1;32m      9\u001B[0m nonzero_iso \u001B[38;5;241m=\u001B[39m signs_iso \u001B[38;5;241m!=\u001B[39m \u001B[38;5;241m0\u001B[39m\n",
      "File \u001B[0;32m~/Desktop/PhD/SI_Codes/selective-inference/selectinf/randomized/group_lasso_query.py:182\u001B[0m, in \u001B[0;36mgroup_lasso.fit\u001B[0;34m(self, solve_args, perturb)\u001B[0m\n\u001B[1;32m    180\u001B[0m Q \u001B[38;5;241m=\u001B[39m XE\u001B[38;5;241m.\u001B[39mT\u001B[38;5;241m.\u001B[39mdot(\u001B[38;5;28mself\u001B[39m\u001B[38;5;241m.\u001B[39m_W[:, \u001B[38;5;28;01mNone\u001B[39;00m] \u001B[38;5;241m*\u001B[39m XE)\n\u001B[1;32m    181\u001B[0m QI \u001B[38;5;241m=\u001B[39m inv(Q)\n\u001B[0;32m--> 182\u001B[0m C \u001B[38;5;241m=\u001B[39m \u001B[43mV\u001B[49m\u001B[38;5;241;43m.\u001B[39;49m\u001B[43mT\u001B[49m\u001B[38;5;241;43m.\u001B[39;49m\u001B[43mdot\u001B[49m\u001B[43m(\u001B[49m\u001B[43mQI\u001B[49m\u001B[43m)\u001B[49m\u001B[38;5;241m.\u001B[39mdot(L)\u001B[38;5;241m.\u001B[39mdot(V)\n\u001B[1;32m    184\u001B[0m \u001B[38;5;28mself\u001B[39m\u001B[38;5;241m.\u001B[39mXE \u001B[38;5;241m=\u001B[39m XE\n\u001B[1;32m    185\u001B[0m \u001B[38;5;28mself\u001B[39m\u001B[38;5;241m.\u001B[39mQ \u001B[38;5;241m=\u001B[39m Q\n",
      "\u001B[0;31mValueError\u001B[0m: shapes (23,37) and (38,38) not aligned: 37 (dim 1) != 38 (dim 0)"
     ]
    }
   ],
   "source": [
    "conv_iso = group_lasso.logistic(X=X_standardized,\n",
    "                                      successes=Y,\n",
    "                                      trials=np.ones(n),\n",
    "                                      groups=groups,\n",
    "                                      weights=weights,\n",
    "                                      useJacobian=True,\n",
    "                            randomizer_scale=sigma_)\n",
    "signs_iso, soln_iso = conv_iso.fit()\n",
    "nonzero_iso = signs_iso != 0"
   ],
   "metadata": {
    "collapsed": false
   }
  },
  {
   "cell_type": "code",
   "execution_count": 130,
   "outputs": [
    {
     "data": {
      "text/plain": "array([ 0,  1,  2,  3,  4,  5,  6,  7,  7,  7,  7,  8,  8,  8,  8,  9,  9,\n       10, 10, 11, 11, 11, 11, 11, 11, 11, 11, 11, 11, 12, 12, 12, 12, 13,\n       13, 13, 13, 14, 14, 15, 16, 17, 18, 19, 20, 21, 22, 23])"
     },
     "execution_count": 130,
     "metadata": {},
     "output_type": "execute_result"
    }
   ],
   "source": [
    "groups"
   ],
   "metadata": {
    "collapsed": false
   }
  },
  {
   "cell_type": "code",
   "execution_count": 133,
   "outputs": [
    {
     "data": {
      "text/plain": "(5985, 48)"
     },
     "execution_count": 133,
     "metadata": {},
     "output_type": "execute_result"
    }
   ],
   "source": [
    "X_standardized.shape"
   ],
   "metadata": {
    "collapsed": false
   }
  },
  {
   "cell_type": "code",
   "execution_count": 134,
   "outputs": [
    {
     "data": {
      "text/plain": "47"
     },
     "execution_count": 134,
     "metadata": {},
     "output_type": "execute_result"
    }
   ],
   "source": [
    "np.linalg.matrix_rank(X_standardized)"
   ],
   "metadata": {
    "collapsed": false
   }
  },
  {
   "cell_type": "code",
   "execution_count": null,
   "outputs": [],
   "source": [],
   "metadata": {
    "collapsed": false
   }
  }
 ],
 "metadata": {
  "kernelspec": {
   "display_name": "Python 3",
   "language": "python",
   "name": "python3"
  },
  "language_info": {
   "codemirror_mode": {
    "name": "ipython",
    "version": 2
   },
   "file_extension": ".py",
   "mimetype": "text/x-python",
   "name": "python",
   "nbconvert_exporter": "python",
   "pygments_lexer": "ipython2",
   "version": "2.7.6"
  }
 },
 "nbformat": 4,
 "nbformat_minor": 0
}
