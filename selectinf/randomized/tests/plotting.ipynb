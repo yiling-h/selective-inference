{
 "cells": [
  {
   "cell_type": "code",
   "execution_count": 3,
   "metadata": {
    "collapsed": true,
    "jupyter": {
     "outputs_hidden": true
    }
   },
   "outputs": [],
   "source": [
    "import pandas as pd\n",
    "import numpy as np\n",
    "import seaborn as sns\n",
    "import matplotlib.pyplot as plt"
   ]
  },
  {
   "cell_type": "code",
   "execution_count": 23,
   "metadata": {
    "collapsed": false,
    "jupyter": {
     "outputs_hidden": false
    }
   },
   "outputs": [],
   "source": [
    "def plotting(path='quasipois_vary_sparsity.csv'):\n",
    "    oper_char_df = pd.read_csv(path)\n",
    "\n",
    "    fig, (ax1, ax2, ax3) = plt.subplots(nrows=1, ncols=3, figsize=(12, 5))\n",
    "    # fig, (ax1, ax2) = plt.subplots(nrows=1, ncols=2, figsize=(8, 5))\n",
    "\n",
    "    print(\"Mean coverage rate/length:\")\n",
    "    print(oper_char_df.groupby(['sparsity size', 'method']).mean())\n",
    "\n",
    "    palette ={\"MLE\": \"palegreen\", \"Data splitting\": \"skyblue\", \"Naive\": \"lightcoral\"}\n",
    "\n",
    "    cov_plot = sns.boxplot(y=oper_char_df[\"coverage rate\"],\n",
    "                           x=oper_char_df[\"sparsity size\"],\n",
    "                           hue=oper_char_df[\"method\"],\n",
    "                           palette=palette,\n",
    "                           orient=\"v\", ax=ax1,\n",
    "                           linewidth=1)\n",
    "    cov_plot.set(title='Coverage')\n",
    "    cov_plot.set_ylim(0.5, 1.05)\n",
    "    # plt.tight_layout()\n",
    "    cov_plot.axhline(y=0.9, color='k', linestyle='--', linewidth=1)\n",
    "    # ax1.set_ylabel(\"\")  # remove y label, but keep ticks\n",
    "\n",
    "    len_plot = sns.boxplot(y=oper_char_df[\"avg length\"],\n",
    "                           x=oper_char_df[\"sparsity size\"],\n",
    "                           hue=oper_char_df[\"method\"],\n",
    "                           palette=palette,\n",
    "                           orient=\"v\", ax=ax2,\n",
    "                           linewidth=1)\n",
    "    len_plot.set(title='Length')\n",
    "    # len_plot.set_ylim(0, 13)\n",
    "    # len_plot.set_ylim(3.5, 7.8)\n",
    "    # plt.tight_layout()\n",
    "    # ax2.set_ylabel(\"\")  # remove y label, but keep ticks\n",
    "\n",
    "    handles, labels = ax2.get_legend_handles_labels()\n",
    "    # fig.tight_layout(pad=0.4, w_pad=0.5, h_pad=1.2)\n",
    "    fig.subplots_adjust(bottom=0.2)\n",
    "    fig.legend(handles, labels, loc='lower center', ncol=4)\n",
    "\n",
    "    F1_plot = sns.boxplot(y=oper_char_df[\"F1 score\"],\n",
    "                           x=oper_char_df[\"sparsity size\"],\n",
    "                           hue=oper_char_df[\"method\"],\n",
    "                           palette=palette,\n",
    "                           orient=\"v\", ax=ax3,\n",
    "                           linewidth=1)\n",
    "    F1_plot.set(title='F1 score')\n",
    "\n",
    "    cov_plot.legend_.remove()\n",
    "    len_plot.legend_.remove()\n",
    "    F1_plot.legend_.remove()\n",
    "\n",
    "    plt.show()\n",
    "\n",
    "def plotting_separate(path='quasipois_vary_sparsity.csv'):\n",
    "    oper_char_df = pd.read_csv(path)\n",
    "\n",
    "    #sns.histplot(oper_char_df[\"sparsity size\"])\n",
    "    #plt.show()\n",
    "    palette ={\"MLE\": \"palegreen\", \"Data splitting\": \"skyblue\", \"Naive\": \"lightcoral\"}\n",
    "\n",
    "    def plot_naive():\n",
    "        naive_flag = oper_char_df[\"method\"] == 'Naive'\n",
    "        print(np.sum(naive_flag))\n",
    "\n",
    "        print(\"Mean coverage rate/length:\")\n",
    "        print(oper_char_df.groupby(['sparsity size', 'method']).mean())\n",
    "\n",
    "        cov_plot = sns.boxplot(y=oper_char_df.loc[naive_flag, \"coverage rate\"],\n",
    "                               x=oper_char_df.loc[naive_flag, \"beta size\"],\n",
    "                               # hue=oper_char_df[\"method\"],\n",
    "                               # palette=\"pastel\",\n",
    "                               color='lightcoral',\n",
    "                               orient=\"v\",\n",
    "                               linewidth=1)\n",
    "        cov_plot.set(title='Coverage of Naive Inference')\n",
    "        cov_plot.set_ylim(0.5, 1.05)\n",
    "        # plt.tight_layout()\n",
    "        cov_plot.axhline(y=0.9, color='k', linestyle='--', linewidth=1)\n",
    "        plt.show()\n",
    "\n",
    "    def plot_comparison():\n",
    "        plt.figure(figsize=(2.5, 4))\n",
    "        cov_plot = sns.boxplot(y=oper_char_df[\"coverage rate\"],\n",
    "                               x=oper_char_df[\"sparsity size\"],\n",
    "                               hue=oper_char_df[\"method\"],\n",
    "                               palette=palette,\n",
    "                               orient=\"v\",\n",
    "                               linewidth=1)\n",
    "        cov_plot.set(title='Coverage')\n",
    "        cov_plot.set_ylim(0.5, 1.05)\n",
    "        # plt.tight_layout()\n",
    "        cov_plot.axhline(y=0.9, color='k', linestyle='--', linewidth=1)\n",
    "        cov_plot.legend(loc='lower center', ncol=3)\n",
    "        plt.tight_layout()\n",
    "\n",
    "        \"\"\"\n",
    "        for i in [2,5,8,11]:\n",
    "            mybox = cov_plot.artists[i]\n",
    "            mybox.set_facecolor('lightcoral')\n",
    "        \"\"\"\n",
    "        leg = cov_plot.get_legend()\n",
    "        #leg.legendHandles[2].set_color('lightcoral')\n",
    "        plt.show()\n",
    "\n",
    "    def plot_len_comparison():\n",
    "        len_plot = sns.boxplot(y=oper_char_df[\"avg length\"],\n",
    "                               x=oper_char_df[\"sparsity size\"],\n",
    "                               hue=oper_char_df[\"method\"],\n",
    "                               palette=palette,\n",
    "                               orient=\"v\",\n",
    "                               linewidth=1)\n",
    "        len_plot.set(title='Length')\n",
    "        # len_plot.set_ylim(0, 100)\n",
    "        len_plot.legend(loc='lower center', ncol=3)\n",
    "        #len_plot.set_ylim(2, 12)\n",
    "        plt.tight_layout()\n",
    "\n",
    "        \"\"\"\n",
    "        for i in [2,5,8,11]:\n",
    "            mybox = len_plot.artists[i]\n",
    "            mybox.set_facecolor('lightcoral')\n",
    "        \"\"\"\n",
    "        leg = len_plot.get_legend()\n",
    "        #leg.legendHandles[2].set_color('lightcoral')\n",
    "        plt.show()\n",
    "\n",
    "    def plot_F1_comparison():\n",
    "        F1_plot = sns.boxplot(y=oper_char_df[\"F1 score\"],\n",
    "                               x=oper_char_df[\"sparsity size\"],\n",
    "                               hue=oper_char_df[\"method\"],\n",
    "                               palette=palette,\n",
    "                               orient=\"v\",\n",
    "                               linewidth=1)\n",
    "        F1_plot.set(title='F1 score')\n",
    "        # len_plot.set_ylim(0, 100)\n",
    "        F1_plot.legend(loc='lower center', ncol=3)\n",
    "        F1_plot.set_ylim(0, 1)\n",
    "        plt.tight_layout()\n",
    "\n",
    "        \"\"\"\n",
    "        for i in [2,5,8,11]:\n",
    "            mybox = len_plot.artists[i]\n",
    "            mybox.set_facecolor('lightcoral')\n",
    "        \"\"\"\n",
    "        leg = F1_plot.get_legend()\n",
    "        #leg.legendHandles[2].set_color('lightcoral')\n",
    "        plt.show()\n",
    "\n",
    "    def plot_MLE_runtime():\n",
    "        plt.figure(figsize=(8, 5))\n",
    "        MLE_flag = oper_char_df[\"method\"] == 'MLE'\n",
    "\n",
    "        runtime_plot = sns.boxplot(y=oper_char_df.loc[MLE_flag, \"runtime\"],\n",
    "                                   x=oper_char_df.loc[MLE_flag, \"sparsity size\"],\n",
    "                                   # hue=oper_char_df[\"method\"],\n",
    "                                   # palette=\"pastel\",\n",
    "                                   #color='lightcoral',\n",
    "                                   color='lightskyblue',\n",
    "                                   orient=\"v\",\n",
    "                                   linewidth=1)\n",
    "        runtime_plot.set(title='Runtime in Seconds for MLE')\n",
    "        runtime_plot.set_ylim(0, 1.)\n",
    "        # plt.tight_layout()\n",
    "        #runtime_plot.axhline(y=0.9, color='k', linestyle='--', linewidth=1)\n",
    "        plt.show()\n",
    "\n",
    "    #plot_naive()\n",
    "    plot_comparison()\n",
    "    #plot_len_comparison()\n",
    "    #plot_F1_comparison()\n",
    "    #plot_MLE_runtime()"
   ]
  },
  {
   "cell_type": "code",
   "execution_count": 24,
   "metadata": {
    "collapsed": false,
    "jupyter": {
     "outputs_hidden": false
    }
   },
   "outputs": [
    {
     "name": "stdout",
     "output_type": "stream",
     "text": [
      "Mean coverage rate/length:\n",
      "                      coverage rate  avg length  F1 score\n",
      "sparsity size method                                     \n",
      "2             Naive        0.774075    6.674022  0.344693\n"
     ]
    },
    {
     "data": {
      "text/plain": "<Figure size 1200x500 with 3 Axes>",
      "image/png": "[encoded data removed]"
     },
     "metadata": {},
     "output_type": "display_data"
    }
   ],
   "source": [
    "plotting('logis_ICSA_toy.csv')"
   ]
  },
  {
   "cell_type": "code",
   "execution_count": 25,
   "metadata": {
    "collapsed": false,
    "jupyter": {
     "outputs_hidden": false
    }
   },
   "outputs": [
    {
     "data": {
      "text/plain": "<Figure size 250x400 with 1 Axes>",
      "image/png": "[encoded data removed]"
     },
     "metadata": {},
     "output_type": "display_data"
    }
   ],
   "source": [
    "plotting_separate('logis_ICSA_toy.csv')"
   ]
  },
  {
   "cell_type": "code",
   "execution_count": 20,
   "metadata": {
    "collapsed": false,
    "jupyter": {
     "outputs_hidden": false
    }
   },
   "outputs": [],
   "source": [
    "range = range(0,100)"
   ]
  },
  {
   "cell_type": "code",
   "execution_count": 21,
   "metadata": {
    "collapsed": false,
    "jupyter": {
     "outputs_hidden": false
    }
   },
   "outputs": [
    {
     "data": {
      "text/plain": [
       "0"
      ]
     },
     "execution_count": 21,
     "metadata": {},
     "output_type": "execute_result"
    }
   ],
   "source": [
    "range.start"
   ]
  },
  {
   "cell_type": "code",
   "execution_count": 22,
   "metadata": {
    "collapsed": false,
    "jupyter": {
     "outputs_hidden": false
    }
   },
   "outputs": [
    {
     "data": {
      "text/plain": [
       "100"
      ]
     },
     "execution_count": 22,
     "metadata": {},
     "output_type": "execute_result"
    }
   ],
   "source": [
    "range.stop"
   ]
  },
  {
   "cell_type": "code",
   "execution_count": 23,
   "metadata": {
    "collapsed": false,
    "jupyter": {
     "outputs_hidden": false
    }
   },
   "outputs": [
    {
     "data": {
      "text/plain": [
       "'aa100'"
      ]
     },
     "execution_count": 23,
     "metadata": {},
     "output_type": "execute_result"
    }
   ],
   "source": [
    "\"aa\" + str(range.stop)"
   ]
  },
  {
   "cell_type": "code",
   "execution_count": 24,
   "metadata": {
    "collapsed": false,
    "jupyter": {
     "outputs_hidden": false
    }
   },
   "outputs": [
    {
     "data": {
      "text/plain": [
       "'quasipois_CI_vary_sparsity0_100.csv'"
      ]
     },
     "execution_count": 24,
     "metadata": {},
     "output_type": "execute_result"
    }
   ],
   "source": [
    "'quasipois_CI_vary_sparsity' + str(range.start) + '_' + str(range.stop) + '.csv'"
   ]
  },
  {
   "cell_type": "code",
   "execution_count": null,
   "metadata": {
    "collapsed": false,
    "jupyter": {
     "outputs_hidden": false
    }
   },
   "outputs": [],
   "source": []
  }
 ],
 "metadata": {
  "kernelspec": {
   "display_name": "Python 3 (ipykernel)",
   "language": "python",
   "name": "python3"
  },
  "language_info": {
   "codemirror_mode": {
    "name": "ipython",
    "version": 3
   },
   "file_extension": ".py",
   "mimetype": "text/x-python",
   "name": "python",
   "nbconvert_exporter": "python",
   "pygments_lexer": "ipython3",
   "version": "3.9.7"
  }
 },
 "nbformat": 4,
 "nbformat_minor": 4
}
