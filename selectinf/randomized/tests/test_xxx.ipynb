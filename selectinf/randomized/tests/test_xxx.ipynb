{
 "cells": [
  {
   "cell_type": "code",
   "execution_count": 1,
   "metadata": {
    "collapsed": true
   },
   "outputs": [],
   "source": [
    "import numpy as np\n",
    "import pandas as pd\n",
    "import nose.tools as nt\n",
    "import seaborn as sns\n",
    "import matplotlib.pyplot as plt\n",
    "\n",
    "import regreg.api as rr\n",
    "\n",
    "from selectinf.randomized.lasso import (lasso, split_lasso)\n",
    "from selectinf.randomized.group_lasso_query import (group_lasso,\n",
    "                                 split_group_lasso)\n",
    "\n",
    "from selectinf.base import (full_targets,\n",
    "                     selected_targets,\n",
    "                     debiased_targets)\n",
    "from selectinf.randomized.tests.instance import (gaussian_group_instance,\n",
    "                                                 logistic_group_instance,\n",
    "                                                 poisson_group_instance)\n",
    "from selectinf.tests.instance import (gaussian_instance,\n",
    "                               logistic_instance,\n",
    "                               poisson_instance,\n",
    "                               cox_instance)\n",
    "from selectinf.base import restricted_estimator\n",
    "from scipy.optimize import minimize"
   ]
  },
  {
   "cell_type": "code",
   "execution_count": 7,
   "outputs": [],
   "source": [
    "def test_selected_targets_lasso(n=500,\n",
    "                              p=200,\n",
    "                              signal_fac=1.2,\n",
    "                              s=5,\n",
    "                              sigma=2,\n",
    "                              rho=0.7,\n",
    "                              randomizer_scale=1.,\n",
    "                              full_dispersion=True,\n",
    "                              level=0.90,\n",
    "                              iter=100):\n",
    "    \"\"\"\n",
    "    Compare to R randomized lasso\n",
    "    \"\"\"\n",
    "\n",
    "    cover = []\n",
    "    len_ = []\n",
    "\n",
    "    for i in range(iter):\n",
    "\n",
    "        np.random.seed(i)\n",
    "\n",
    "        inst, const = gaussian_instance, lasso.gaussian\n",
    "        signal = np.sqrt(signal_fac * 2 * np.log(p))\n",
    "\n",
    "        while True:  # run until we get somee selection\n",
    "            X, Y, beta = inst(n=n,\n",
    "                              p=p,\n",
    "                              signal=signal,\n",
    "                              s=s,\n",
    "                              equicorrelated=True,\n",
    "                              rho=rho,\n",
    "                              sigma=sigma,\n",
    "                              random_signs=True)[:3]\n",
    "\n",
    "            idx = np.arange(p)\n",
    "            sigmaX = rho ** np.abs(np.subtract.outer(idx, idx))\n",
    "            print(\"snr\", beta.T.dot(sigmaX).dot(beta) / ((sigma ** 2.) * n))\n",
    "\n",
    "            n, p = X.shape\n",
    "\n",
    "            sigma_ = np.std(Y)\n",
    "            W = 0.8 * np.ones(X.shape[1]) * np.sqrt(2 * np.log(p)) * sigma_\n",
    "\n",
    "            conv = const(X,\n",
    "                         Y,\n",
    "                         W,\n",
    "                         ridge_term=0.,\n",
    "                         randomizer_scale=randomizer_scale * sigma_)\n",
    "\n",
    "            signs = conv.fit()\n",
    "            nonzero = signs != 0\n",
    "            print(\"dimensions\", n, p, nonzero.sum())\n",
    "\n",
    "            if nonzero.sum() > 0:\n",
    "\n",
    "                if full_dispersion:\n",
    "                    dispersion = np.linalg.norm(Y - X.dot(np.linalg.pinv(X).dot(Y))) ** 2 / (n - p)\n",
    "                else:\n",
    "                    dispersion = np.linalg.norm(Y - X[:,nonzero].dot(np.linalg.pinv(X[:,nonzero]).dot(Y))) ** 2 / (n - nonzero.sum())\n",
    "\n",
    "                beta_target = np.linalg.pinv(X[:, nonzero]).dot(X.dot(beta))\n",
    "\n",
    "                conv.setup_inference(dispersion=dispersion)\n",
    "\n",
    "                target_spec = selected_targets(conv.loglike,\n",
    "                                               conv.observed_soln,\n",
    "                                               dispersion=dispersion)\n",
    "\n",
    "                result = conv.inference(target_spec,\n",
    "                                        'selective_MLE',\n",
    "                                        level=level)\n",
    "\n",
    "                pval = result['pvalue']\n",
    "                intervals = np.asarray(result[['lower_confidence', 'upper_confidence']])\n",
    "\n",
    "                coverage = (beta_target > intervals[:, 0]) * (beta_target < intervals[:, 1])\n",
    "\n",
    "                cover.extend(coverage)\n",
    "                len_.extend(intervals[:, 1] - intervals[:, 0])\n",
    "\n",
    "                print(\"Coverage so far \", np.mean(cover), )\n",
    "                print(\"Lengths so far \", np.mean(len_))\n",
    "\n",
    "                break   # Go to next iteration if we have some selection"
   ],
   "metadata": {
    "collapsed": false
   }
  },
  {
   "cell_type": "code",
   "execution_count": 3,
   "outputs": [],
   "source": [
    "df = pd.DataFrame()"
   ],
   "metadata": {
    "collapsed": false
   }
  },
  {
   "cell_type": "code",
   "execution_count": 55,
   "outputs": [],
   "source": [
    "line = [1,2,3,4]\n",
    "df2 = pd.concat([df, pd.DataFrame(line), pd.DataFrame(line)], axis=0)"
   ],
   "metadata": {
    "collapsed": false
   }
  },
  {
   "cell_type": "code",
   "execution_count": 66,
   "outputs": [],
   "source": [
    "df_line = pd.concat([pd.DataFrame([\"method\"]), pd.DataFrame(line), pd.DataFrame(line)], axis=0)"
   ],
   "metadata": {
    "collapsed": false
   }
  },
  {
   "cell_type": "code",
   "execution_count": 88,
   "outputs": [],
   "source": [
    "df1=df_line.T\n",
    "p = 4\n",
    "colnames = ['method'] + ['lower_' + str(i) for i in range(p)] \\\n",
    "           + ['upper_' + str(i) for i in range(p)]"
   ],
   "metadata": {
    "collapsed": false
   }
  },
  {
   "cell_type": "code",
   "execution_count": 89,
   "outputs": [],
   "source": [
    "df1.columns = colnames"
   ],
   "metadata": {
    "collapsed": false
   }
  },
  {
   "cell_type": "code",
   "execution_count": 3,
   "outputs": [],
   "source": [
    "df = pd.DataFrame()"
   ],
   "metadata": {
    "collapsed": false
   }
  },
  {
   "cell_type": "code",
   "execution_count": 4,
   "outputs": [],
   "source": [
    "a = 1*np.ones(4)\n",
    "b = 2*np.ones(4)\n",
    "x = 5*np.ones(5)\n",
    "y = 6*np.ones(5)"
   ],
   "metadata": {
    "collapsed": false
   }
  },
  {
   "cell_type": "code",
   "execution_count": 8,
   "outputs": [],
   "source": [
    "df1=pd.concat([df, pd.DataFrame(a), pd.DataFrame(b)], axis=1)\n",
    "df2=pd.concat([df1, pd.concat([pd.DataFrame(x), pd.DataFrame(y)], axis=1)], axis=0)"
   ],
   "metadata": {
    "collapsed": false
   }
  },
  {
   "cell_type": "code",
   "execution_count": 41,
   "outputs": [],
   "source": [
    "dfxx=pd.DataFrame([\"a\"] * 5)"
   ],
   "metadata": {
    "collapsed": false
   }
  },
  {
   "cell_type": "code",
   "execution_count": 40,
   "outputs": [],
   "source": [
    "low = np.array([-1,2,3,-4,1])\n",
    "up = low + [2, 1, 1, 2, 1]"
   ],
   "metadata": {
    "collapsed": false
   }
  },
  {
   "cell_type": "code",
   "execution_count": 42,
   "outputs": [
    {
     "data": {
      "text/plain": "   0\n0  a\n1  a\n2  a\n3  a\n4  a",
      "text/html": "<div>\n<style scoped>\n    .dataframe tbody tr th:only-of-type {\n        vertical-align: middle;\n    }\n\n    .dataframe tbody tr th {\n        vertical-align: top;\n    }\n\n    .dataframe thead th {\n        text-align: right;\n    }\n</style>\n<table border=\"1\" class=\"dataframe\">\n  <thead>\n    <tr style=\"text-align: right;\">\n      <th></th>\n      <th>0</th>\n    </tr>\n  </thead>\n  <tbody>\n    <tr>\n      <th>0</th>\n      <td>a</td>\n    </tr>\n    <tr>\n      <th>1</th>\n      <td>a</td>\n    </tr>\n    <tr>\n      <th>2</th>\n      <td>a</td>\n    </tr>\n    <tr>\n      <th>3</th>\n      <td>a</td>\n    </tr>\n    <tr>\n      <th>4</th>\n      <td>a</td>\n    </tr>\n  </tbody>\n</table>\n</div>"
     },
     "execution_count": 42,
     "metadata": {},
     "output_type": "execute_result"
    }
   ],
   "source": [
    "dfxx"
   ],
   "metadata": {
    "collapsed": false
   }
  },
  {
   "cell_type": "code",
   "execution_count": 38,
   "outputs": [],
   "source": [
    "a = low > 0"
   ],
   "metadata": {
    "collapsed": false
   }
  },
  {
   "cell_type": "code",
   "execution_count": 39,
   "outputs": [],
   "source": [
    "b = up < 0"
   ],
   "metadata": {
    "collapsed": false
   }
  },
  {
   "cell_type": "code",
   "execution_count": 41,
   "outputs": [
    {
     "data": {
      "text/plain": "array([False,  True,  True, False,  True])"
     },
     "execution_count": 41,
     "metadata": {},
     "output_type": "execute_result"
    }
   ],
   "source": [
    "a"
   ],
   "metadata": {
    "collapsed": false
   }
  },
  {
   "cell_type": "code",
   "execution_count": 42,
   "outputs": [
    {
     "data": {
      "text/plain": "array([False, False, False,  True, False])"
     },
     "execution_count": 42,
     "metadata": {},
     "output_type": "execute_result"
    }
   ],
   "source": [
    "b"
   ],
   "metadata": {
    "collapsed": false
   }
  },
  {
   "cell_type": "code",
   "execution_count": null,
   "outputs": [],
   "source": [],
   "metadata": {
    "collapsed": false
   }
  },
  {
   "cell_type": "code",
   "execution_count": 37,
   "outputs": [
    {
     "data": {
      "text/plain": "array([False,  True,  True,  True,  True])"
     },
     "execution_count": 37,
     "metadata": {},
     "output_type": "execute_result"
    }
   ],
   "source": [
    "a + b"
   ],
   "metadata": {
    "collapsed": false
   }
  },
  {
   "cell_type": "code",
   "execution_count": null,
   "outputs": [],
   "source": [],
   "metadata": {
    "collapsed": false
   }
  },
  {
   "cell_type": "code",
   "execution_count": null,
   "outputs": [],
   "source": [],
   "metadata": {
    "collapsed": false
   }
  },
  {
   "cell_type": "code",
   "execution_count": 36,
   "outputs": [
    {
     "data": {
      "text/plain": "array([False,  True,  True,  True,  True])"
     },
     "execution_count": 36,
     "metadata": {},
     "output_type": "execute_result"
    }
   ],
   "source": [
    "(a + b) != 0"
   ],
   "metadata": {
    "collapsed": false
   }
  },
  {
   "cell_type": "code",
   "execution_count": 43,
   "outputs": [
    {
     "data": {
      "text/plain": "3"
     },
     "execution_count": 43,
     "metadata": {},
     "output_type": "execute_result"
    }
   ],
   "source": [
    "a.sum()"
   ],
   "metadata": {
    "collapsed": false
   }
  },
  {
   "cell_type": "code",
   "execution_count": 52,
   "outputs": [],
   "source": [
    "beta = np.array([0, 1, 1, 1, 1])"
   ],
   "metadata": {
    "collapsed": false
   }
  },
  {
   "cell_type": "code",
   "execution_count": 53,
   "outputs": [],
   "source": [
    "def calculate_F1_score(beta_true, conf_low, conf_up):\n",
    "    nonzero = (beta_true != 0)\n",
    "    print(\"nonzero:\", nonzero)\n",
    "    # lower bound > 0 or upper bound < 0\n",
    "    interval_selection = ((0 < conf_low) + (0 > conf_up)) != 0\n",
    "    print(\"interval_selection:\", interval_selection)\n",
    "    # precision & recall\n",
    "    precision = (nonzero * interval_selection).sum() / interval_selection.sum()\n",
    "    print(\"intersection:\", nonzero * interval_selection)\n",
    "    recall = (nonzero * interval_selection).sum() / nonzero.sum()\n",
    "\n",
    "    return 2*precision*recall/(precision + recall)"
   ],
   "metadata": {
    "collapsed": false
   }
  },
  {
   "cell_type": "code",
   "execution_count": 54,
   "outputs": [
    {
     "name": "stdout",
     "output_type": "stream",
     "text": [
      "nonzero: [False  True  True  True  True]\n",
      "interval_selection: [False  True  True  True  True]\n",
      "intersection: [False  True  True  True  True]\n"
     ]
    },
    {
     "data": {
      "text/plain": "1.0"
     },
     "execution_count": 54,
     "metadata": {},
     "output_type": "execute_result"
    }
   ],
   "source": [
    "calculate_F1_score(beta, low, up)"
   ],
   "metadata": {
    "collapsed": false
   }
  },
  {
   "cell_type": "code",
   "execution_count": 5,
   "outputs": [],
   "source": [
    "A = 1"
   ],
   "metadata": {
    "collapsed": false
   }
  },
  {
   "cell_type": "code",
   "execution_count": 6,
   "outputs": [
    {
     "data": {
      "text/plain": "True"
     },
     "execution_count": 6,
     "metadata": {},
     "output_type": "execute_result"
    }
   ],
   "source": [
    "A is not None"
   ],
   "metadata": {
    "collapsed": false
   }
  },
  {
   "cell_type": "code",
   "execution_count": null,
   "outputs": [],
   "source": [],
   "metadata": {
    "collapsed": false
   }
  }
 ],
 "metadata": {
  "kernelspec": {
   "display_name": "Python 3",
   "language": "python",
   "name": "python3"
  },
  "language_info": {
   "codemirror_mode": {
    "name": "ipython",
    "version": 2
   },
   "file_extension": ".py",
   "mimetype": "text/x-python",
   "name": "python",
   "nbconvert_exporter": "python",
   "pygments_lexer": "ipython2",
   "version": "2.7.6"
  }
 },
 "nbformat": 4,
 "nbformat_minor": 0
}
