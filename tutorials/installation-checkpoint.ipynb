{
 "cells": [
  {
   "cell_type": "markdown",
   "id": "db115a698f1b926a",
   "metadata": {},
   "source": [
    "# Installing Git Repo & Virtual Environment"
   ]
  },
  {
   "cell_type": "markdown",
   "id": "e28c7f4c80e62850",
   "metadata": {},
   "source": [
    "Install [homebrew](https://brew.sh/)\n",
    "1. Homebrew is required for installation of `pipx`. This requires a `sudo` command, but oftentimes on UM-affiliated computing clusters, this is not allowed for individual users. However, this step is optional as `pipx` can be safely replaced by `pip`."
   ]
  },
  {
   "cell_type": "markdown",
   "id": "6f4fb10a4c5e14",
   "metadata": {},
   "source": [
    "If you were able to install homebrew, then install `pipx`:\n",
    "1. brew install `pipx`\n",
    "2. ```pipx ensurepath```\n",
    "3. open new terminal (so that path changes take effect)"
   ]
  },
  {
   "cell_type": "markdown",
   "id": "1dacb5b9c408c616",
   "metadata": {},
   "source": [
    "Use `pipx` to install virtualenv: `pipx install virtualenv`\n",
    "1. Alternatively, if installation of pipx failed / is not authorized on your computer or on Great Lakes, it turns out replacing `pipx` with vanilla `pip` also works. (For Great Lakes usage, one may install on their home directory by specifying the installation with `--user`)\n",
    "2. To install with `pip` on a cluster on which you don't have global installation authorization, install on your home directory using\n",
    "```pip install <package> --user```\n",
    "Replace `<package>` with the name of the package to be installed, e.g. `virtualenv`, `numpy`, ..."
   ]
  },
  {
   "cell_type": "markdown",
   "id": "454fb835382854b3",
   "metadata": {},
   "source": [
    "Clone the repository pertaining to your project from git:\n",
    "1. Go to the repo: e.g. [SI for Gaussian Graphs](https://github.com/snigdhagit/SI-Graphs)\n",
    "2. Click on `Code`\n",
    "3. Copy the https link, for the above project it would be: \"https://github.com/snigdhagit/SI-Graphs.git\"\n",
    "4. Go to terminal and type \n",
    "```git clone https://github.com/snigdhagit/SI-Graphs.git```"
   ]
  },
  {
   "cell_type": "markdown",
   "id": "4d39b7996e079034",
   "metadata": {},
   "source": [
    "cd into `selective-inference` repo"
   ]
  },
  {
   "cell_type": "markdown",
   "id": "cd1e7014682f97b0",
   "metadata": {},
   "source": [
    "Init and populate submodules: `git submodule update --init`"
   ]
  },
  {
   "cell_type": "markdown",
   "id": "1deea8a744aad11e",
   "metadata": {},
   "source": [
    "Create a new python3 virtual environment: `virtualenv env3 -p python3`"
   ]
  },
  {
   "cell_type": "markdown",
   "id": "e48e790ae9cff019",
   "metadata": {},
   "source": [
    "Active the environment: `source env3/bin/activate`"
   ]
  },
  {
   "cell_type": "markdown",
   "id": "c99822eda9e2f647",
   "metadata": {},
   "source": [
    "pip will likely fail to install `regreg` from `pypi` (where it looks for packages by default) because it's missing some wheels and doesn't have a source package there). Instead, install it from git\n",
    "1. ```pip install git+https://github.com/regreg/regreg.git```\n",
    "2. It will look like it fail but probably didn't: it tries to build a wheel for regreg which fails, it then falls back on setup.py install but there's a deprecation warning that starting with pip 21 it won't fall back anymore."
   ]
  },
  {
   "cell_type": "markdown",
   "id": "226830c48798ee0b",
   "metadata": {},
   "source": [
    "Use pip to install the rest. \n",
    "1. \"requirements.txt\" is a file that contains a list of package names to be installed in one-shot. It turns out sometimes this list is not comprehensive enough for some test/simulation files. Please install additional packages as needed if you have trouble running certain codes.\n",
    "2. Again, on a cluster, you may need the `--user` option whenever pip is used."
   ]
  },
  {
   "cell_type": "code",
   "execution_count": null,
   "id": "f891f49b1683a801",
   "metadata": {},
   "outputs": [],
   "source": []
  }
 ],
 "metadata": {
  "kernelspec": {
   "display_name": "Python 3 (ipykernel)",
   "language": "python",
   "name": "python3"
  },
  "language_info": {
   "codemirror_mode": {
    "name": "ipython",
    "version": 3
   },
   "file_extension": ".py",
   "mimetype": "text/x-python",
   "name": "python",
   "nbconvert_exporter": "python",
   "pygments_lexer": "ipython3",
   "version": "3.10.13"
  }
 },
 "nbformat": 4,
 "nbformat_minor": 5
}
