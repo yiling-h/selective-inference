{
 "cells": [
  {
   "cell_type": "code",
   "execution_count": 19,
   "id": "initial_id",
   "metadata": {
    "collapsed": true,
    "ExecuteTime": {
     "end_time": "2024-03-09T01:56:48.835028Z",
     "start_time": "2024-03-09T01:56:48.830103Z"
    }
   },
   "outputs": [],
   "source": [
    "import numpy as np\n",
    "\n",
    "from selectinf.randomized.lasso import lasso, split_lasso\n",
    "from selectinf.tests.instance import gaussian_instance\n",
    "\n",
    "from selectinf.base import (full_targets, selected_targets)"
   ]
  },
  {
   "cell_type": "markdown",
   "source": [
    "The following chunk of code generates a simulation instance, under the generating model\n",
    "$$Y = X\\beta + \\epsilon,$$\n",
    "where $\\beta$ is sparse, and $\\epsilon \\sim N(\\mathbf{0}, \\sigma^2 I_n)$, and the design matrix $X$ is drawn from either an equi-correlated or auto-correlated Gaussian distribution with correlation parameter $\\rho$, with the following parameters:\n",
    "1. `n`: sample size\n",
    "2. `p`: number of variables\n",
    "3. `s`: size of the support of $\\beta$, i.e., $|\\{j: \\beta_j \\neq 0\\}|$ \n",
    "4. `sigma`: sd of the noise term\n",
    "5. $\\rho \\in [0,1)$: the equicorrelation/autocorrelation parameter\n",
    "6. `signal`: signal strength\n",
    "7. `random signs`: a boolean flag determining whether the nonzero entries of beta having a random sign or being uniformly positive\n",
    "8. `scale`: whether to standardize and scale the covariates by root n\n",
    "9. `center`: whether to center the data\n",
    "10. `equicorrelated`: if `True`, generate equicorrelated $X$, else generate autocorrelated $X$"
   ],
   "metadata": {
    "collapsed": false
   },
   "id": "4e3194007eaf24f9"
  },
  {
   "cell_type": "markdown",
   "source": [
    "### Special considerations of the `scale` parameter\n",
    "When implementing the generating function, the `scale` parameter controls scaling of the relative scales of covariates and $\\beta$, while keeping the scale of $Y$ unchanged under both options. In particular:\n",
    "If `scale == False`, \n",
    "1. $X \\sim N(\\mathbf{0}, \\Sigma)$, \n",
    "2. $\\beta = \\begin{bmatrix}\\mathbf{1}_s & \\mathbf{0}_{p-s}\\end{bmatrix}$ \n",
    "3. and we scale $\\beta$ as $\\tilde\\beta = \\beta / \\sqrt{n}$, \n",
    "4. and generate $Y = X \\tilde\\beta + \\epsilon$ with the sd of $\\epsilon$ equal to the $n$-free constant `signal`, \n",
    "5. and the function returns $X,\\ Y,\\ \\tilde\\beta$.\n",
    "\n",
    "Otherwise, if `scale == True`, \n",
    "1. $X \\sim N(\\mathbf{0}, \\Sigma)$, \n",
    "2. $\\beta = \\begin{bmatrix}\\mathbf{1}_s & \\mathbf{0}_{p-s}\\end{bmatrix}$ \n",
    "3. and we scale $X$ as $\\tilde X = X / (\\sqrt{n} * \\text{std}(X))$, \n",
    "4. and generate $Y = \\tilde X \\beta + \\epsilon$ with the sd of $\\epsilon$ equal to the $n$-free constant `signal`, \n",
    "5. and the function returns $\\tilde X,\\ Y,\\ \\beta$.\n",
    "\n",
    "Notice finally that the true scale of signal is of order $O\\left(1/\\sqrt{n}\\right)$, this is due to the asymptotic regime in which the theory applies."
   ],
   "metadata": {
    "collapsed": false
   },
   "id": "f0be6e5c79363b6c"
  },
  {
   "cell_type": "markdown",
   "source": [
    "### $L1$ penalty under different values of `scale`\n",
    "The LASSO solver we implemented solves a problem of form\n",
    "$$\\underset{\\beta}{\\min} \\frac{1}{2}||Y - X\\beta||_2^2 + \\lambda_n ||\\beta||_1.$$\n",
    "\n",
    "In practice, when `scale` is `True`, we solve for\n",
    "$$\\underset{\\beta}{\\min} \\frac{1}{2}||Y - \\tilde X\\beta||_2^2 + \\lambda_n ||\\beta||_1 = \\frac{1}{2}||Y - \\frac{X}{\\sqrt{n}}\\beta||_2^2 + \\lambda_n ||\\beta||_1,$$\n",
    "setting\n",
    "$$\\lambda_n = C\\hat\\sigma\\sqrt{2\\log p}$$\n",
    "due to its model selection quality guarantees.\n",
    "\n",
    "However, when `scale` is `False`, due to the different scaling of $X$, we solve alternatively for\n",
    "$$\\underset{\\beta}{\\min} \\frac{1}{2}||Y - X\\beta||_2^2 + \\lambda_n ||\\beta||_1.$$ \n",
    "To remedy the change of scale of the target of inference, we scale up \n",
    "$\\lambda_n$ by $\\sqrt{n}$ to match up the order, that is,\n",
    "$$\\lambda_n = C\\hat\\sigma\\sqrt{2n\\log p}.$$\n"
   ],
   "metadata": {
    "collapsed": false
   },
   "id": "3fbf1b716e193570"
  },
  {
   "cell_type": "code",
   "execution_count": 261,
   "outputs": [],
   "source": [
    "n = 500\n",
    "p = 50\n",
    "signal_fac = 1\n",
    "sigma = 2\n",
    "rho = 0.5\n",
    "proportion = 0.5\n",
    "randomizer_scale = 1.\n",
    "full_dispersion = True\n",
    "level = 0.90\n",
    "scale_X = False\n",
    "\n",
    "inst = gaussian_instance\n",
    "const = lasso.gaussian\n",
    "signal = np.sqrt(signal_fac * 2 * np.log(p))\n",
    "\n",
    "X, Y, beta = inst(n=n, p=p, s=7, sigma=sigma,\n",
    "                  rho=rho, signal=signal, random_signs=False,\n",
    "                  scale=scale_X, center=True,\n",
    "                  equicorrelated=True)[:3]"
   ],
   "metadata": {
    "collapsed": false,
    "ExecuteTime": {
     "end_time": "2024-03-09T05:05:33.741835Z",
     "start_time": "2024-03-09T05:05:33.713929Z"
    }
   },
   "id": "9be9a086e59d228e"
  },
  {
   "cell_type": "markdown",
   "source": [
    "In the previous code chunk were we set the simulation parameters, the variable `scale_X` denotes whether to scale $X$ by $1/\\sqrt{n}$. Practically, it is more common to use the covariates in the original scale, and we therefore set `scale_X=False`. Note that in calling the function `lasso.gaussian()`, which is refactored as `const` in the running example, an argument called `scaled` is required, where the user should pass in the truth value of whether $X$ is scaled by $1/\\sqrt{n}$."
   ],
   "metadata": {
    "collapsed": false
   },
   "id": "fd31ea02d931f717"
  },
  {
   "cell_type": "code",
   "execution_count": 262,
   "outputs": [],
   "source": [
    "weight_frac = 2\n",
    "sigma_ = np.std(Y)\n",
    "if scale_X:\n",
    "    weight = weight_frac * sigma_ * np.sqrt(2 * np.log(p)) \n",
    "else:\n",
    "    weight = weight_frac * sigma_ * np.sqrt(2 * np.log(p)) * np.sqrt(n) \n",
    "conv = const(X, Y, scaled=scale_X, feature_weights=weight * np.ones(X.shape[1]),\n",
    "             randomizer_scale=randomizer_scale * sigma,\n",
    "             ridge_term=0.)\n",
    "\n",
    "signs = conv.fit()\n",
    "nonzero = signs != 0"
   ],
   "metadata": {
    "collapsed": false,
    "ExecuteTime": {
     "end_time": "2024-03-09T05:05:34.876776Z",
     "start_time": "2024-03-09T05:05:34.671522Z"
    }
   },
   "id": "9fe903d9bd528c4f"
  },
  {
   "cell_type": "code",
   "execution_count": 263,
   "outputs": [
    {
     "data": {
      "text/plain": "1.3929402190390485"
     },
     "execution_count": 263,
     "metadata": {},
     "output_type": "execute_result"
    }
   ],
   "source": [
    "np.std(X @ beta)"
   ],
   "metadata": {
    "collapsed": false,
    "ExecuteTime": {
     "end_time": "2024-03-09T05:05:35.408142Z",
     "start_time": "2024-03-09T05:05:35.373700Z"
    }
   },
   "id": "f639a72a4fa0a57d"
  },
  {
   "cell_type": "code",
   "execution_count": 264,
   "outputs": [],
   "source": [
    "if nonzero.sum() > 0:\n",
    "\n",
    "    if full_dispersion:\n",
    "        dispersion = np.linalg.norm(Y - X.dot(np.linalg.pinv(X).dot(Y))) ** 2 / (n - p)\n",
    "    else:\n",
    "        dispersion = np.linalg.norm(Y - X[:,nonzero].dot(np.linalg.pinv(X[:,nonzero]).dot(Y))) ** 2 / (n - nonzero.sum())\n",
    "\n",
    "    conv.setup_inference(dispersion=dispersion)\n",
    "\n",
    "    target_spec = selected_targets(conv.loglike,\n",
    "                                   conv.observed_soln,\n",
    "                                   dispersion=dispersion)\n",
    "\n",
    "    result = conv.inference(target_spec, \n",
    "                       method='selective_MLE',\n",
    "                       level=level)\n",
    "\n",
    "    pval = result['pvalue']\n",
    "    intervals = np.asarray(result[['lower_confidence', 'upper_confidence']])\n",
    "\n",
    "    beta_target = np.linalg.pinv(X[:, nonzero]).dot(X.dot(beta))\n",
    "\n",
    "    coverage = (beta_target > intervals[:, 0]) * (beta_target < intervals[:, 1])"
   ],
   "metadata": {
    "collapsed": false,
    "ExecuteTime": {
     "end_time": "2024-03-09T05:05:35.927210Z",
     "start_time": "2024-03-09T05:05:35.873532Z"
    }
   },
   "id": "53e985f638bccdf7"
  },
  {
   "cell_type": "code",
   "execution_count": 265,
   "outputs": [
    {
     "name": "stdout",
     "output_type": "stream",
     "text": [
      "1.0\n",
      "0.4798426877254546\n",
      "0.250184667969183\n"
     ]
    }
   ],
   "source": [
    "print(np.mean(coverage))        # Coverage rate\n",
    "print(np.mean(intervals[:, 1] - intervals[:, 0])) # Mean CI length\n",
    "print(np.mean(beta[beta!=0]))   # Signal strength"
   ],
   "metadata": {
    "collapsed": false,
    "ExecuteTime": {
     "end_time": "2024-03-09T05:05:36.388581Z",
     "start_time": "2024-03-09T05:05:36.384742Z"
    }
   },
   "id": "5a6c338d96c22636"
  },
  {
   "cell_type": "code",
   "execution_count": 266,
   "outputs": [
    {
     "name": "stdout",
     "output_type": "stream",
     "text": [
      "10\n"
     ]
    }
   ],
   "source": [
    "print(nonzero.sum())    # Selected support size"
   ],
   "metadata": {
    "collapsed": false,
    "ExecuteTime": {
     "end_time": "2024-03-09T05:05:36.931555Z",
     "start_time": "2024-03-09T05:05:36.920759Z"
    }
   },
   "id": "b0f45a674ef692c8"
  },
  {
   "cell_type": "markdown",
   "source": [
    "# Examples for Data Carving"
   ],
   "metadata": {
    "collapsed": false
   },
   "id": "a1b37def120ed0c"
  },
  {
   "cell_type": "markdown",
   "source": [
    "The following codes provides an example of using data carving. Note that here, there is no need to set the `scaled` argument in calling `split_lasso.gaussian()`. However, the scaling issue in "
   ],
   "metadata": {
    "collapsed": false
   },
   "id": "5b1f6297526f7d30"
  },
  {
   "cell_type": "code",
   "execution_count": 267,
   "outputs": [],
   "source": [
    "const = split_lasso.gaussian"
   ],
   "metadata": {
    "collapsed": false,
    "ExecuteTime": {
     "end_time": "2024-03-09T05:05:38.407520Z",
     "start_time": "2024-03-09T05:05:38.403570Z"
    }
   },
   "id": "2f2e0891f896716a"
  },
  {
   "cell_type": "code",
   "execution_count": 268,
   "outputs": [],
   "source": [
    "weight_frac = 2\n",
    "sigma_ = np.std(Y)\n",
    "if scale_X:\n",
    "    weight = weight_frac * sigma_ * np.sqrt(2 * np.log(p)) \n",
    "else:\n",
    "    weight = weight_frac * sigma_ * np.sqrt(2 * np.log(p)) * np.sqrt(n) \n",
    "conv = const(X, Y, feature_weights=weight * np.ones(X.shape[1]),\n",
    "             proportion=0.5)\n",
    "\n",
    "signs = conv.fit()\n",
    "nonzero = signs != 0"
   ],
   "metadata": {
    "collapsed": false,
    "ExecuteTime": {
     "end_time": "2024-03-09T05:05:38.905465Z",
     "start_time": "2024-03-09T05:05:38.847811Z"
    }
   },
   "id": "ed66c77d199b148b"
  },
  {
   "cell_type": "code",
   "execution_count": 269,
   "outputs": [
    {
     "data": {
      "text/plain": "1.3929402190390485"
     },
     "execution_count": 269,
     "metadata": {},
     "output_type": "execute_result"
    }
   ],
   "source": [
    "np.std(X @ beta)"
   ],
   "metadata": {
    "collapsed": false,
    "ExecuteTime": {
     "end_time": "2024-03-09T05:05:39.443149Z",
     "start_time": "2024-03-09T05:05:39.409473Z"
    }
   },
   "id": "ecb2b72ab23e4413"
  },
  {
   "cell_type": "code",
   "execution_count": 270,
   "outputs": [],
   "source": [
    "if nonzero.sum() > 0:\n",
    "\n",
    "    if full_dispersion:\n",
    "        dispersion = np.linalg.norm(Y - X.dot(np.linalg.pinv(X).dot(Y))) ** 2 / (n - p)\n",
    "    else:\n",
    "        dispersion = np.linalg.norm(Y - X[:,nonzero].dot(np.linalg.pinv(X[:,nonzero]).dot(Y))) ** 2 / (n - nonzero.sum())\n",
    "\n",
    "    conv.setup_inference(dispersion=dispersion)\n",
    "\n",
    "    target_spec = selected_targets(conv.loglike,\n",
    "                                   conv.observed_soln,\n",
    "                                   dispersion=dispersion)\n",
    "\n",
    "    result = conv.inference(target_spec, \n",
    "                       method='selective_MLE',\n",
    "                       level=level)\n",
    "\n",
    "    pval = result['pvalue']\n",
    "    intervals = np.asarray(result[['lower_confidence', 'upper_confidence']])\n",
    "\n",
    "    beta_target = np.linalg.pinv(X[:, nonzero]).dot(X.dot(beta))\n",
    "\n",
    "    coverage = (beta_target > intervals[:, 0]) * (beta_target < intervals[:, 1])"
   ],
   "metadata": {
    "collapsed": false,
    "ExecuteTime": {
     "end_time": "2024-03-09T05:05:40.220101Z",
     "start_time": "2024-03-09T05:05:40.104355Z"
    }
   },
   "id": "3bef594f4be8170c"
  },
  {
   "cell_type": "code",
   "execution_count": 271,
   "outputs": [
    {
     "name": "stdout",
     "output_type": "stream",
     "text": [
      "1.0\n",
      "0.5051216480186823\n",
      "0.250184667969183\n"
     ]
    }
   ],
   "source": [
    "print(np.mean(coverage))        # Coverage rate\n",
    "print(np.mean(intervals[:, 1] - intervals[:, 0])) # Mean CI length\n",
    "print(np.mean(beta[beta!=0]))   # Signal strength"
   ],
   "metadata": {
    "collapsed": false,
    "ExecuteTime": {
     "end_time": "2024-03-09T05:05:40.699868Z",
     "start_time": "2024-03-09T05:05:40.696644Z"
    }
   },
   "id": "37bcbe21d74acce0"
  },
  {
   "cell_type": "code",
   "execution_count": 272,
   "outputs": [
    {
     "data": {
      "text/plain": "8"
     },
     "execution_count": 272,
     "metadata": {},
     "output_type": "execute_result"
    }
   ],
   "source": [
    "nonzero.sum()  # Selected support size"
   ],
   "metadata": {
    "collapsed": false,
    "ExecuteTime": {
     "end_time": "2024-03-09T05:05:41.768292Z",
     "start_time": "2024-03-09T05:05:41.742564Z"
    }
   },
   "id": "6de39734521ee554"
  }
 ],
 "metadata": {
  "kernelspec": {
   "display_name": "Python 3",
   "language": "python",
   "name": "python3"
  },
  "language_info": {
   "codemirror_mode": {
    "name": "ipython",
    "version": 2
   },
   "file_extension": ".py",
   "mimetype": "text/x-python",
   "name": "python",
   "nbconvert_exporter": "python",
   "pygments_lexer": "ipython2",
   "version": "2.7.6"
  }
 },
 "nbformat": 4,
 "nbformat_minor": 5
}
